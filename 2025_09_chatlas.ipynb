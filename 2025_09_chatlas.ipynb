{
  "cells": [
    {
      "cell_type": "markdown",
      "metadata": {
        "id": "view-in-github",
        "colab_type": "text"
      },
      "source": [
        "<a href=\"https://colab.research.google.com/github/gerardchung/DM2020/blob/main/2025_09_chatlas.ipynb\" target=\"_parent\"><img src=\"https://colab.research.google.com/assets/colab-badge.svg\" alt=\"Open In Colab\"/></a>"
      ]
    },
    {
      "cell_type": "markdown",
      "id": "85b779aa",
      "metadata": {
        "id": "85b779aa"
      },
      "source": [
        "# Tinkering with LLMs via API: OpenAI, Claude, and more\n",
        "\n",
        "This notebook is created by Bella Ratmelia (bellar@smu.edu.sg) for 'Skill me up' workshop series on 11 September 2025"
      ]
    },
    {
      "cell_type": "markdown",
      "source": [
        "## Install chatlas and other packages\n",
        "\n",
        "Each LLM provider may have their own specs/parameter for their APIs.\n",
        "Fortunately, there a lot of Python packages that could help us deal with this various differences. One of them is [chatlas](https://posit-dev.github.io/chatlas/)\n",
        "\n"
      ],
      "metadata": {
        "id": "duKCQsQA2Ttw"
      },
      "id": "duKCQsQA2Ttw"
    },
    {
      "cell_type": "code",
      "execution_count": null,
      "id": "37a01b2f",
      "metadata": {
        "id": "37a01b2f",
        "colab": {
          "base_uri": "https://localhost:8080/"
        },
        "outputId": "4f0f8215-f69b-40d5-e234-e7df0742b137"
      },
      "outputs": [
        {
          "output_type": "stream",
          "name": "stdout",
          "text": [
            "Collecting chatlas\n",
            "  Downloading chatlas-0.13.0-py3-none-any.whl.metadata (5.6 kB)\n",
            "Collecting anthropic\n",
            "  Downloading anthropic-0.67.0-py3-none-any.whl.metadata (27 kB)\n",
            "Requirement already satisfied: tqdm in /usr/local/lib/python3.12/dist-packages (4.67.1)\n",
            "Requirement already satisfied: jinja2 in /usr/local/lib/python3.12/dist-packages (from chatlas) (3.1.6)\n",
            "Requirement already satisfied: openai in /usr/local/lib/python3.12/dist-packages (from chatlas) (1.106.1)\n",
            "Requirement already satisfied: orjson in /usr/local/lib/python3.12/dist-packages (from chatlas) (3.11.3)\n",
            "Requirement already satisfied: pydantic>=2.0 in /usr/local/lib/python3.12/dist-packages (from chatlas) (2.11.7)\n",
            "Requirement already satisfied: requests in /usr/local/lib/python3.12/dist-packages (from chatlas) (2.32.4)\n",
            "Requirement already satisfied: rich in /usr/local/lib/python3.12/dist-packages (from chatlas) (13.9.4)\n",
            "Requirement already satisfied: anyio<5,>=3.5.0 in /usr/local/lib/python3.12/dist-packages (from anthropic) (4.10.0)\n",
            "Requirement already satisfied: distro<2,>=1.7.0 in /usr/local/lib/python3.12/dist-packages (from anthropic) (1.9.0)\n",
            "Requirement already satisfied: httpx<1,>=0.25.0 in /usr/local/lib/python3.12/dist-packages (from anthropic) (0.28.1)\n",
            "Requirement already satisfied: jiter<1,>=0.4.0 in /usr/local/lib/python3.12/dist-packages (from anthropic) (0.10.0)\n",
            "Requirement already satisfied: sniffio in /usr/local/lib/python3.12/dist-packages (from anthropic) (1.3.1)\n",
            "Requirement already satisfied: typing-extensions<5,>=4.10 in /usr/local/lib/python3.12/dist-packages (from anthropic) (4.15.0)\n",
            "Requirement already satisfied: idna>=2.8 in /usr/local/lib/python3.12/dist-packages (from anyio<5,>=3.5.0->anthropic) (3.10)\n",
            "Requirement already satisfied: certifi in /usr/local/lib/python3.12/dist-packages (from httpx<1,>=0.25.0->anthropic) (2025.8.3)\n",
            "Requirement already satisfied: httpcore==1.* in /usr/local/lib/python3.12/dist-packages (from httpx<1,>=0.25.0->anthropic) (1.0.9)\n",
            "Requirement already satisfied: h11>=0.16 in /usr/local/lib/python3.12/dist-packages (from httpcore==1.*->httpx<1,>=0.25.0->anthropic) (0.16.0)\n",
            "Requirement already satisfied: annotated-types>=0.6.0 in /usr/local/lib/python3.12/dist-packages (from pydantic>=2.0->chatlas) (0.7.0)\n",
            "Requirement already satisfied: pydantic-core==2.33.2 in /usr/local/lib/python3.12/dist-packages (from pydantic>=2.0->chatlas) (2.33.2)\n",
            "Requirement already satisfied: typing-inspection>=0.4.0 in /usr/local/lib/python3.12/dist-packages (from pydantic>=2.0->chatlas) (0.4.1)\n",
            "Requirement already satisfied: MarkupSafe>=2.0 in /usr/local/lib/python3.12/dist-packages (from jinja2->chatlas) (3.0.2)\n",
            "Requirement already satisfied: charset_normalizer<4,>=2 in /usr/local/lib/python3.12/dist-packages (from requests->chatlas) (3.4.3)\n",
            "Requirement already satisfied: urllib3<3,>=1.21.1 in /usr/local/lib/python3.12/dist-packages (from requests->chatlas) (2.5.0)\n",
            "Requirement already satisfied: markdown-it-py>=2.2.0 in /usr/local/lib/python3.12/dist-packages (from rich->chatlas) (4.0.0)\n",
            "Requirement already satisfied: pygments<3.0.0,>=2.13.0 in /usr/local/lib/python3.12/dist-packages (from rich->chatlas) (2.19.2)\n",
            "Requirement already satisfied: mdurl~=0.1 in /usr/local/lib/python3.12/dist-packages (from markdown-it-py>=2.2.0->rich->chatlas) (0.1.2)\n",
            "Downloading chatlas-0.13.0-py3-none-any.whl (126 kB)\n",
            "\u001b[2K   \u001b[90m━━━━━━━━━━━━━━━━━━━━━━━━━━━━━━━━━━━━━━━━\u001b[0m \u001b[32m126.4/126.4 kB\u001b[0m \u001b[31m4.8 MB/s\u001b[0m eta \u001b[36m0:00:00\u001b[0m\n",
            "\u001b[?25hDownloading anthropic-0.67.0-py3-none-any.whl (317 kB)\n",
            "\u001b[2K   \u001b[90m━━━━━━━━━━━━━━━━━━━━━━━━━━━━━━━━━━━━━━━━\u001b[0m \u001b[32m317.1/317.1 kB\u001b[0m \u001b[31m13.8 MB/s\u001b[0m eta \u001b[36m0:00:00\u001b[0m\n",
            "\u001b[?25hInstalling collected packages: anthropic, chatlas\n",
            "Successfully installed anthropic-0.67.0 chatlas-0.13.0\n"
          ]
        }
      ],
      "source": [
        "pip install chatlas anthropic tqdm"
      ]
    },
    {
      "cell_type": "markdown",
      "source": [
        "## Setup API keys as secret in Colab\n",
        "\n",
        "1. Click on the key icon on the left sidebar of this Colab notebook\n",
        "2. Click on \"Add new secret\"\n",
        "3. Use `OPENAI_API_KEY` as the name in \"Name\" column, and then paste the API key under \"Value\" column\n",
        "4. Use `ANTHROPIC_API_KEY` as the name, and paste the corresponding API key as well.\n",
        "5. Make sure that the Notebook access is enabled (the tick mark should turn blue when enabled)\n",
        "\n",
        "**Key things to note:**\n",
        "- Remember that with APIs, the business model is \"pay-per-use\", i.e. you will be charged certain amount of money for certain amount of tokens. Check with the different providers for the pricing.\n",
        "- Do you even need LLM? Some use cases can be done with simple python code instead. e.g. if all you need is to extract emails or article DOI or ISBN from paragraphs, maybe a simple regex will do.\n",
        "- Some model is more expensive than others, so make sure to use the appropriate model for your use case. i.e. if your use case is to extract places name, you don't need to use a reasoning model to accomplish that."
      ],
      "metadata": {
        "id": "VmjLBUzw2yjY"
      },
      "id": "VmjLBUzw2yjY"
    },
    {
      "cell_type": "code",
      "source": [
        "# Import all the packages we'll need\n",
        "from google.colab import userdata\n",
        "import os\n",
        "import tqdm\n",
        "import time\n",
        "import pandas as pd\n",
        "import chatlas as ctl"
      ],
      "metadata": {
        "id": "FErTrk8u8Rvl"
      },
      "id": "FErTrk8u8Rvl",
      "execution_count": null,
      "outputs": []
    },
    {
      "cell_type": "code",
      "source": [
        "# Load the API key as set it as an environment variable for this notebook\n",
        "os.environ['OPENAI_API_KEY'] = userdata.get('OPENAI_API_KEY')\n",
        "os.environ['ANTHROPIC_API_KEY'] = userdata.get('ANTHROPIC_API_KEY')"
      ],
      "metadata": {
        "id": "6UficXDS4ysk"
      },
      "id": "6UficXDS4ysk",
      "execution_count": null,
      "outputs": []
    },
    {
      "cell_type": "markdown",
      "source": [
        "**NOTE: this will only work for this Google Colab. If you are doing this locally using VS Code or Jupyter Lab, the method to store and load your API keys is different. Follow this steps to set environment variables <https://help.openai.com/en/articles/5112595-best-practices-for-api-key-safety> (Jump to point #4)**\n"
      ],
      "metadata": {
        "id": "bST-ZzKh_RQ7"
      },
      "id": "bST-ZzKh_RQ7"
    },
    {
      "cell_type": "markdown",
      "source": [
        "## First API call with chatlas\n",
        "\n",
        "Let's do our first ever call to OpenAI's gpt-5-nano model"
      ],
      "metadata": {
        "id": "a4ugWGuo3tsW"
      },
      "id": "a4ugWGuo3tsW"
    },
    {
      "cell_type": "code",
      "execution_count": null,
      "id": "43a2fa63",
      "metadata": {
        "id": "43a2fa63",
        "colab": {
          "base_uri": "https://localhost:8080/",
          "height": 81
        },
        "outputId": "c9cccc27-067a-4a1c-cda0-9a7cac7af1d3"
      },
      "outputs": [
        {
          "output_type": "display_data",
          "data": {
            "text/plain": [
              "<IPython.core.display.HTML object>"
            ],
            "text/html": [
              "<div class='chatlas-markdown'>"
            ]
          },
          "metadata": {}
        },
        {
          "output_type": "display_data",
          "data": {
            "text/plain": [
              "<IPython.core.display.Markdown object>"
            ],
            "text/markdown": "<br>\n\nThe local name of Florence in Italy is **Firenze**."
          },
          "metadata": {}
        },
        {
          "output_type": "execute_result",
          "data": {
            "text/plain": [
              "<chatlas._chat.ChatResponse at 0x7905b61fa360>"
            ]
          },
          "metadata": {},
          "execution_count": 4
        }
      ],
      "source": [
        "chat_openai = ctl.ChatOpenAI() #initiate the API instance\n",
        "chat_openai.chat(\"What is the local name of Florence in Italy?\")"
      ]
    },
    {
      "cell_type": "markdown",
      "source": [
        "## Switching provider e.g. to Anthropic\n",
        "\n",
        "We could switch to another provide like Anthropic, without having to amend our code or figure out what's the endpoint/specs look like for Anthropic"
      ],
      "metadata": {
        "id": "k3CzsuH57tJS"
      },
      "id": "k3CzsuH57tJS"
    },
    {
      "cell_type": "code",
      "execution_count": null,
      "id": "e984e0e2",
      "metadata": {
        "id": "e984e0e2",
        "colab": {
          "base_uri": "https://localhost:8080/",
          "height": 116
        },
        "outputId": "50334086-2eec-4def-9da6-7b13c45c25f1"
      },
      "outputs": [
        {
          "output_type": "display_data",
          "data": {
            "text/plain": [
              "<IPython.core.display.HTML object>"
            ],
            "text/html": [
              "<div class='chatlas-markdown'>"
            ]
          },
          "metadata": {}
        },
        {
          "output_type": "display_data",
          "data": {
            "text/plain": [
              "<IPython.core.display.Markdown object>"
            ],
            "text/markdown": "<br>\n\nThe first Prime Minister of Singapore was Lee Kuan Yew. He served as Prime Minister from 1959, when Singapore gained self-governance from Britain, until 1990 when he stepped down. Lee Kuan Yew is widely credited as the founding father of modern Singapore, having led the country through its independence in 1965 and its transformation into a prosperous developed nation."
          },
          "metadata": {}
        },
        {
          "output_type": "execute_result",
          "data": {
            "text/plain": [
              "<chatlas._chat.ChatResponse at 0x7905b55dc260>"
            ]
          },
          "metadata": {},
          "execution_count": 5
        }
      ],
      "source": [
        "chat_anthropic = ctl.ChatAnthropic() # this is Anthropic  instance\n",
        "chat_anthropic.chat(\"Who is the first prime minister of Singapore?\")"
      ]
    },
    {
      "cell_type": "markdown",
      "source": [
        "## Switching model\n",
        "\n",
        "What if we want to switch to another model?\n",
        "\n",
        "Let's list what are the different models available for OpenAI, for example"
      ],
      "metadata": {
        "id": "qWRmNikJ77Ub"
      },
      "id": "qWRmNikJ77Ub"
    },
    {
      "cell_type": "code",
      "source": [
        "# print all the model available in the API\n",
        "chat_openai.list_models()"
      ],
      "metadata": {
        "id": "ac6hCeq08Epo",
        "colab": {
          "base_uri": "https://localhost:8080/"
        },
        "outputId": "4bda834b-6aa6-4114-cd5a-d3d837155d5d"
      },
      "id": "ac6hCeq08Epo",
      "execution_count": null,
      "outputs": [
        {
          "output_type": "execute_result",
          "data": {
            "text/plain": [
              "[{'id': 'gpt-audio',\n",
              "  'owned_by': 'system',\n",
              "  'input': None,\n",
              "  'output': None,\n",
              "  'cached_input': None,\n",
              "  'created_at': datetime.date(2025, 8, 28)},\n",
              " {'id': 'gpt-audio-2025-08-28',\n",
              "  'owned_by': 'system',\n",
              "  'input': None,\n",
              "  'output': None,\n",
              "  'cached_input': None,\n",
              "  'created_at': datetime.date(2025, 8, 27)},\n",
              " {'id': 'gpt-realtime',\n",
              "  'owned_by': 'system',\n",
              "  'input': None,\n",
              "  'output': None,\n",
              "  'cached_input': None,\n",
              "  'created_at': datetime.date(2025, 8, 27)},\n",
              " {'id': 'gpt-realtime-2025-08-28',\n",
              "  'owned_by': 'system',\n",
              "  'input': None,\n",
              "  'output': None,\n",
              "  'cached_input': None,\n",
              "  'created_at': datetime.date(2025, 8, 27)},\n",
              " {'id': 'gpt-5-nano',\n",
              "  'owned_by': 'system',\n",
              "  'input': 0.05,\n",
              "  'output': 0.4,\n",
              "  'cached_input': 0.005,\n",
              "  'created_at': datetime.date(2025, 8, 5)},\n",
              " {'id': 'gpt-5',\n",
              "  'owned_by': 'system',\n",
              "  'input': 1.25,\n",
              "  'output': 10,\n",
              "  'cached_input': 0.125,\n",
              "  'created_at': datetime.date(2025, 8, 5)},\n",
              " {'id': 'gpt-5-mini-2025-08-07',\n",
              "  'owned_by': 'system',\n",
              "  'input': 0.25,\n",
              "  'output': 2,\n",
              "  'cached_input': 0.025,\n",
              "  'created_at': datetime.date(2025, 8, 5)},\n",
              " {'id': 'gpt-5-mini',\n",
              "  'owned_by': 'system',\n",
              "  'input': 0.25,\n",
              "  'output': 2,\n",
              "  'cached_input': 0.025,\n",
              "  'created_at': datetime.date(2025, 8, 5)},\n",
              " {'id': 'gpt-5-nano-2025-08-07',\n",
              "  'owned_by': 'system',\n",
              "  'input': 0.05,\n",
              "  'output': 0.4,\n",
              "  'cached_input': 0.005,\n",
              "  'created_at': datetime.date(2025, 8, 5)},\n",
              " {'id': 'gpt-5-chat-latest',\n",
              "  'owned_by': 'system',\n",
              "  'input': 1.25,\n",
              "  'output': 10,\n",
              "  'cached_input': 0.125,\n",
              "  'created_at': datetime.date(2025, 8, 1)},\n",
              " {'id': 'gpt-5-2025-08-07',\n",
              "  'owned_by': 'system',\n",
              "  'input': 1.25,\n",
              "  'output': 10,\n",
              "  'cached_input': 0.125,\n",
              "  'created_at': datetime.date(2025, 8, 1)},\n",
              " {'id': 'o4-mini-deep-research-2025-06-26',\n",
              "  'owned_by': 'system',\n",
              "  'input': 2,\n",
              "  'output': 8,\n",
              "  'cached_input': 0.5,\n",
              "  'created_at': datetime.date(2025, 6, 25)},\n",
              " {'id': 'o4-mini-deep-research',\n",
              "  'owned_by': 'system',\n",
              "  'input': 2,\n",
              "  'output': 8,\n",
              "  'cached_input': 0.5,\n",
              "  'created_at': datetime.date(2025, 6, 11)},\n",
              " {'id': 'gpt-4o-realtime-preview-2025-06-03',\n",
              "  'owned_by': 'system',\n",
              "  'input': 5,\n",
              "  'output': 20,\n",
              "  'cached_input': 2.5,\n",
              "  'created_at': datetime.date(2025, 6, 2)},\n",
              " {'id': 'gpt-4o-audio-preview-2025-06-03',\n",
              "  'owned_by': 'system',\n",
              "  'input': 2.5,\n",
              "  'output': 10,\n",
              "  'cached_input': None,\n",
              "  'created_at': datetime.date(2025, 6, 2)},\n",
              " {'id': 'codex-mini-latest',\n",
              "  'owned_by': 'system',\n",
              "  'input': 1.5,\n",
              "  'output': 6,\n",
              "  'cached_input': 0.375,\n",
              "  'created_at': datetime.date(2025, 5, 8)},\n",
              " {'id': 'gpt-image-1',\n",
              "  'owned_by': 'system',\n",
              "  'input': None,\n",
              "  'output': None,\n",
              "  'cached_input': None,\n",
              "  'created_at': datetime.date(2025, 4, 24)},\n",
              " {'id': 'gpt-4.1-2025-04-14',\n",
              "  'owned_by': 'system',\n",
              "  'input': 2,\n",
              "  'output': 8,\n",
              "  'cached_input': 0.5,\n",
              "  'created_at': datetime.date(2025, 4, 10)},\n",
              " {'id': 'gpt-4.1',\n",
              "  'owned_by': 'system',\n",
              "  'input': 2,\n",
              "  'output': 8,\n",
              "  'cached_input': 0.5,\n",
              "  'created_at': datetime.date(2025, 4, 10)},\n",
              " {'id': 'gpt-4.1-mini-2025-04-14',\n",
              "  'owned_by': 'system',\n",
              "  'input': 0.4,\n",
              "  'output': 1.6,\n",
              "  'cached_input': 0.1,\n",
              "  'created_at': datetime.date(2025, 4, 10)},\n",
              " {'id': 'gpt-4.1-mini',\n",
              "  'owned_by': 'system',\n",
              "  'input': 0.4,\n",
              "  'output': 1.6,\n",
              "  'cached_input': 0.1,\n",
              "  'created_at': datetime.date(2025, 4, 10)},\n",
              " {'id': 'gpt-4.1-nano-2025-04-14',\n",
              "  'owned_by': 'system',\n",
              "  'input': 0.1,\n",
              "  'output': 0.4,\n",
              "  'cached_input': 0.025,\n",
              "  'created_at': datetime.date(2025, 4, 10)},\n",
              " {'id': 'gpt-4.1-nano',\n",
              "  'owned_by': 'system',\n",
              "  'input': 0.1,\n",
              "  'output': 0.4,\n",
              "  'cached_input': 0.025,\n",
              "  'created_at': datetime.date(2025, 4, 10)},\n",
              " {'id': 'o3',\n",
              "  'owned_by': 'system',\n",
              "  'input': 2,\n",
              "  'output': 8,\n",
              "  'cached_input': 0.5,\n",
              "  'created_at': datetime.date(2025, 4, 9)},\n",
              " {'id': 'o4-mini',\n",
              "  'owned_by': 'system',\n",
              "  'input': 1.1,\n",
              "  'output': 4.4,\n",
              "  'cached_input': 0.275,\n",
              "  'created_at': datetime.date(2025, 4, 9)},\n",
              " {'id': 'o3-2025-04-16',\n",
              "  'owned_by': 'system',\n",
              "  'input': 2,\n",
              "  'output': 8,\n",
              "  'cached_input': 0.5,\n",
              "  'created_at': datetime.date(2025, 4, 8)},\n",
              " {'id': 'o4-mini-2025-04-16',\n",
              "  'owned_by': 'system',\n",
              "  'input': 1.1,\n",
              "  'output': 4.4,\n",
              "  'cached_input': 0.275,\n",
              "  'created_at': datetime.date(2025, 4, 8)},\n",
              " {'id': 'gpt-4o-mini-tts',\n",
              "  'owned_by': 'system',\n",
              "  'input': 2.5,\n",
              "  'output': 10,\n",
              "  'cached_input': None,\n",
              "  'created_at': datetime.date(2025, 3, 19)},\n",
              " {'id': 'o1-pro-2025-03-19',\n",
              "  'owned_by': 'system',\n",
              "  'input': 150,\n",
              "  'output': 600,\n",
              "  'cached_input': None,\n",
              "  'created_at': datetime.date(2025, 3, 17)},\n",
              " {'id': 'o1-pro',\n",
              "  'owned_by': 'system',\n",
              "  'input': 150,\n",
              "  'output': 600,\n",
              "  'cached_input': None,\n",
              "  'created_at': datetime.date(2025, 3, 17)},\n",
              " {'id': 'gpt-4o-transcribe',\n",
              "  'owned_by': 'system',\n",
              "  'input': 2.5,\n",
              "  'output': 10,\n",
              "  'cached_input': None,\n",
              "  'created_at': datetime.date(2025, 3, 15)},\n",
              " {'id': 'gpt-4o-mini-transcribe',\n",
              "  'owned_by': 'system',\n",
              "  'input': 1.25,\n",
              "  'output': 5,\n",
              "  'cached_input': None,\n",
              "  'created_at': datetime.date(2025, 3, 15)},\n",
              " {'id': 'computer-use-preview-2025-03-11',\n",
              "  'owned_by': 'system',\n",
              "  'input': None,\n",
              "  'output': None,\n",
              "  'cached_input': None,\n",
              "  'created_at': datetime.date(2025, 3, 7)},\n",
              " {'id': 'gpt-4o-search-preview-2025-03-11',\n",
              "  'owned_by': 'system',\n",
              "  'input': 2.5,\n",
              "  'output': 10,\n",
              "  'cached_input': 1.25,\n",
              "  'created_at': datetime.date(2025, 3, 7)},\n",
              " {'id': 'gpt-4o-search-preview',\n",
              "  'owned_by': 'system',\n",
              "  'input': 2.5,\n",
              "  'output': 10,\n",
              "  'cached_input': 1.25,\n",
              "  'created_at': datetime.date(2025, 3, 7)},\n",
              " {'id': 'gpt-4o-mini-search-preview-2025-03-11',\n",
              "  'owned_by': 'system',\n",
              "  'input': 0.15,\n",
              "  'output': 0.6,\n",
              "  'cached_input': 0.075,\n",
              "  'created_at': datetime.date(2025, 3, 7)},\n",
              " {'id': 'gpt-4o-mini-search-preview',\n",
              "  'owned_by': 'system',\n",
              "  'input': 0.15,\n",
              "  'output': 0.6,\n",
              "  'cached_input': 0.075,\n",
              "  'created_at': datetime.date(2025, 3, 7)},\n",
              " {'id': 'gpt-4o-2024-11-20',\n",
              "  'owned_by': 'system',\n",
              "  'input': 2.5,\n",
              "  'output': 10,\n",
              "  'cached_input': 1.25,\n",
              "  'created_at': datetime.date(2025, 2, 12)},\n",
              " {'id': 'o3-mini-2025-01-31',\n",
              "  'owned_by': 'system',\n",
              "  'input': 1.1,\n",
              "  'output': 4.4,\n",
              "  'cached_input': 0.55,\n",
              "  'created_at': datetime.date(2025, 1, 27)},\n",
              " {'id': 'o3-mini',\n",
              "  'owned_by': 'system',\n",
              "  'input': 1.1,\n",
              "  'output': 4.4,\n",
              "  'cached_input': 0.55,\n",
              "  'created_at': datetime.date(2025, 1, 17)},\n",
              " {'id': 'computer-use-preview',\n",
              "  'owned_by': 'system',\n",
              "  'input': None,\n",
              "  'output': None,\n",
              "  'cached_input': None,\n",
              "  'created_at': datetime.date(2024, 12, 20)},\n",
              " {'id': 'o1-2024-12-17',\n",
              "  'owned_by': 'system',\n",
              "  'input': 15,\n",
              "  'output': 60,\n",
              "  'cached_input': 7.5,\n",
              "  'created_at': datetime.date(2024, 12, 16)},\n",
              " {'id': 'o1',\n",
              "  'owned_by': 'system',\n",
              "  'input': 15,\n",
              "  'output': 60,\n",
              "  'cached_input': 7.5,\n",
              "  'created_at': datetime.date(2024, 12, 16)},\n",
              " {'id': 'gpt-4o-mini-realtime-preview',\n",
              "  'owned_by': 'system',\n",
              "  'input': 0.6,\n",
              "  'output': 2.4,\n",
              "  'cached_input': 0.3,\n",
              "  'created_at': datetime.date(2024, 12, 16)},\n",
              " {'id': 'gpt-4o-mini-audio-preview',\n",
              "  'owned_by': 'system',\n",
              "  'input': 0.15,\n",
              "  'output': 0.6,\n",
              "  'cached_input': None,\n",
              "  'created_at': datetime.date(2024, 12, 16)},\n",
              " {'id': 'gpt-4o-mini-realtime-preview-2024-12-17',\n",
              "  'owned_by': 'system',\n",
              "  'input': 0.6,\n",
              "  'output': 2.4,\n",
              "  'cached_input': 0.3,\n",
              "  'created_at': datetime.date(2024, 12, 13)},\n",
              " {'id': 'gpt-4o-mini-audio-preview-2024-12-17',\n",
              "  'owned_by': 'system',\n",
              "  'input': 0.15,\n",
              "  'output': 0.6,\n",
              "  'cached_input': None,\n",
              "  'created_at': datetime.date(2024, 12, 13)},\n",
              " {'id': 'gpt-4o-audio-preview-2024-12-17',\n",
              "  'owned_by': 'system',\n",
              "  'input': 2.5,\n",
              "  'output': 10,\n",
              "  'cached_input': None,\n",
              "  'created_at': datetime.date(2024, 12, 12)},\n",
              " {'id': 'gpt-4o-realtime-preview-2024-12-17',\n",
              "  'owned_by': 'system',\n",
              "  'input': 5,\n",
              "  'output': 20,\n",
              "  'cached_input': 2.5,\n",
              "  'created_at': datetime.date(2024, 12, 11)},\n",
              " {'id': 'omni-moderation-2024-09-26',\n",
              "  'owned_by': 'system',\n",
              "  'input': None,\n",
              "  'output': None,\n",
              "  'cached_input': None,\n",
              "  'created_at': datetime.date(2024, 11, 27)},\n",
              " {'id': 'omni-moderation-latest',\n",
              "  'owned_by': 'system',\n",
              "  'input': None,\n",
              "  'output': None,\n",
              "  'cached_input': None,\n",
              "  'created_at': datetime.date(2024, 11, 15)},\n",
              " {'id': 'gpt-4o-realtime-preview',\n",
              "  'owned_by': 'system',\n",
              "  'input': 5,\n",
              "  'output': 20,\n",
              "  'cached_input': 2.5,\n",
              "  'created_at': datetime.date(2024, 9, 30)},\n",
              " {'id': 'gpt-4o-audio-preview',\n",
              "  'owned_by': 'system',\n",
              "  'input': 2.5,\n",
              "  'output': 10,\n",
              "  'cached_input': None,\n",
              "  'created_at': datetime.date(2024, 9, 27)},\n",
              " {'id': 'gpt-4o-audio-preview-2024-10-01',\n",
              "  'owned_by': 'system',\n",
              "  'input': 2.5,\n",
              "  'output': 10,\n",
              "  'cached_input': None,\n",
              "  'created_at': datetime.date(2024, 9, 26)},\n",
              " {'id': 'gpt-4o-realtime-preview-2024-10-01',\n",
              "  'owned_by': 'system',\n",
              "  'input': 5,\n",
              "  'output': 20,\n",
              "  'cached_input': 2.5,\n",
              "  'created_at': datetime.date(2024, 9, 23)},\n",
              " {'id': 'o1-mini-2024-09-12',\n",
              "  'owned_by': 'system',\n",
              "  'input': 3,\n",
              "  'output': 12,\n",
              "  'cached_input': 1.5,\n",
              "  'created_at': datetime.date(2024, 9, 6)},\n",
              " {'id': 'o1-mini',\n",
              "  'owned_by': 'system',\n",
              "  'input': 1.1,\n",
              "  'output': 4.4,\n",
              "  'cached_input': 0.55,\n",
              "  'created_at': datetime.date(2024, 9, 6)},\n",
              " {'id': 'chatgpt-4o-latest',\n",
              "  'owned_by': 'system',\n",
              "  'input': 5,\n",
              "  'output': 15,\n",
              "  'cached_input': None,\n",
              "  'created_at': datetime.date(2024, 8, 13)},\n",
              " {'id': 'gpt-4o-2024-08-06',\n",
              "  'owned_by': 'system',\n",
              "  'input': 2.5,\n",
              "  'output': 10,\n",
              "  'cached_input': 1.25,\n",
              "  'created_at': datetime.date(2024, 8, 4)},\n",
              " {'id': 'gpt-4o-mini-2024-07-18',\n",
              "  'owned_by': 'system',\n",
              "  'input': 0.15,\n",
              "  'output': 0.6,\n",
              "  'cached_input': 0.075,\n",
              "  'created_at': datetime.date(2024, 7, 16)},\n",
              " {'id': 'gpt-4o-mini',\n",
              "  'owned_by': 'system',\n",
              "  'input': 0.15,\n",
              "  'output': 0.6,\n",
              "  'cached_input': 0.075,\n",
              "  'created_at': datetime.date(2024, 7, 16)},\n",
              " {'id': 'gpt-4o',\n",
              "  'owned_by': 'system',\n",
              "  'input': 2.5,\n",
              "  'output': 10,\n",
              "  'cached_input': 1.25,\n",
              "  'created_at': datetime.date(2024, 5, 10)},\n",
              " {'id': 'gpt-4o-2024-05-13',\n",
              "  'owned_by': 'system',\n",
              "  'input': 5,\n",
              "  'output': 15,\n",
              "  'cached_input': None,\n",
              "  'created_at': datetime.date(2024, 5, 10)},\n",
              " {'id': 'gpt-4-turbo-2024-04-09',\n",
              "  'owned_by': 'system',\n",
              "  'input': 10,\n",
              "  'output': 30,\n",
              "  'cached_input': None,\n",
              "  'created_at': datetime.date(2024, 4, 8)},\n",
              " {'id': 'gpt-4-turbo',\n",
              "  'owned_by': 'system',\n",
              "  'input': 10,\n",
              "  'output': 30,\n",
              "  'cached_input': None,\n",
              "  'created_at': datetime.date(2024, 4, 5)},\n",
              " {'id': 'gpt-4-0125-preview',\n",
              "  'owned_by': 'system',\n",
              "  'input': 10,\n",
              "  'output': 30,\n",
              "  'cached_input': None,\n",
              "  'created_at': datetime.date(2024, 1, 23)},\n",
              " {'id': 'gpt-4-turbo-preview',\n",
              "  'owned_by': 'system',\n",
              "  'input': 10,\n",
              "  'output': 30,\n",
              "  'cached_input': None,\n",
              "  'created_at': datetime.date(2024, 1, 23)},\n",
              " {'id': 'gpt-3.5-turbo-0125',\n",
              "  'owned_by': 'system',\n",
              "  'input': 0.5,\n",
              "  'output': 1.5,\n",
              "  'cached_input': None,\n",
              "  'created_at': datetime.date(2024, 1, 23)},\n",
              " {'id': 'text-embedding-3-small',\n",
              "  'owned_by': 'system',\n",
              "  'input': 0.02,\n",
              "  'output': 0,\n",
              "  'cached_input': None,\n",
              "  'created_at': datetime.date(2024, 1, 22)},\n",
              " {'id': 'text-embedding-3-large',\n",
              "  'owned_by': 'system',\n",
              "  'input': 0.13,\n",
              "  'output': 0,\n",
              "  'cached_input': None,\n",
              "  'created_at': datetime.date(2024, 1, 22)},\n",
              " {'id': 'tts-1-hd',\n",
              "  'owned_by': 'system',\n",
              "  'input': None,\n",
              "  'output': None,\n",
              "  'cached_input': None,\n",
              "  'created_at': datetime.date(2023, 11, 3)},\n",
              " {'id': 'tts-1-1106',\n",
              "  'owned_by': 'system',\n",
              "  'input': None,\n",
              "  'output': None,\n",
              "  'cached_input': None,\n",
              "  'created_at': datetime.date(2023, 11, 3)},\n",
              " {'id': 'tts-1-hd-1106',\n",
              "  'owned_by': 'system',\n",
              "  'input': None,\n",
              "  'output': None,\n",
              "  'cached_input': None,\n",
              "  'created_at': datetime.date(2023, 11, 3)},\n",
              " {'id': 'gpt-4-1106-preview',\n",
              "  'owned_by': 'system',\n",
              "  'input': 10,\n",
              "  'output': 30,\n",
              "  'cached_input': None,\n",
              "  'created_at': datetime.date(2023, 11, 2)},\n",
              " {'id': 'gpt-3.5-turbo-1106',\n",
              "  'owned_by': 'system',\n",
              "  'input': 1,\n",
              "  'output': 2,\n",
              "  'cached_input': None,\n",
              "  'created_at': datetime.date(2023, 11, 2)},\n",
              " {'id': 'dall-e-2',\n",
              "  'owned_by': 'system',\n",
              "  'input': None,\n",
              "  'output': None,\n",
              "  'cached_input': None,\n",
              "  'created_at': datetime.date(2023, 11, 1)},\n",
              " {'id': 'dall-e-3',\n",
              "  'owned_by': 'system',\n",
              "  'input': None,\n",
              "  'output': None,\n",
              "  'cached_input': None,\n",
              "  'created_at': datetime.date(2023, 10, 31)},\n",
              " {'id': 'gpt-3.5-turbo-instruct-0914',\n",
              "  'owned_by': 'system',\n",
              "  'input': None,\n",
              "  'output': None,\n",
              "  'cached_input': None,\n",
              "  'created_at': datetime.date(2023, 9, 7)},\n",
              " {'id': 'ft:gpt-3.5-turbo-0613:smulib::7rnkv7Z5',\n",
              "  'owned_by': 'bellatest',\n",
              "  'input': None,\n",
              "  'output': None,\n",
              "  'cached_input': None,\n",
              "  'created_at': datetime.date(2023, 8, 26)},\n",
              " {'id': 'ft:gpt-3.5-turbo-0613:smulib::7rnrI3HY',\n",
              "  'owned_by': 'bellatest',\n",
              "  'input': None,\n",
              "  'output': None,\n",
              "  'cached_input': None,\n",
              "  'created_at': datetime.date(2023, 8, 26)},\n",
              " {'id': 'ft:gpt-3.5-turbo-0613:smulib::7rod2SNU',\n",
              "  'owned_by': 'bellatest',\n",
              "  'input': None,\n",
              "  'output': None,\n",
              "  'cached_input': None,\n",
              "  'created_at': datetime.date(2023, 8, 26)},\n",
              " {'id': 'ft:gpt-3.5-turbo-0613:smulib::7rrNs7uG',\n",
              "  'owned_by': 'bellatest',\n",
              "  'input': None,\n",
              "  'output': None,\n",
              "  'cached_input': None,\n",
              "  'created_at': datetime.date(2023, 8, 26)},\n",
              " {'id': 'ft:gpt-3.5-turbo-0613:smulib::7rrpgXpz',\n",
              "  'owned_by': 'bellatest',\n",
              "  'input': None,\n",
              "  'output': None,\n",
              "  'cached_input': None,\n",
              "  'created_at': datetime.date(2023, 8, 26)},\n",
              " {'id': 'ft:gpt-3.5-turbo-0613:smulib::7rtBDMkN',\n",
              "  'owned_by': 'bellatest',\n",
              "  'input': None,\n",
              "  'output': None,\n",
              "  'cached_input': None,\n",
              "  'created_at': datetime.date(2023, 8, 26)},\n",
              " {'id': 'gpt-3.5-turbo-instruct',\n",
              "  'owned_by': 'system',\n",
              "  'input': None,\n",
              "  'output': None,\n",
              "  'cached_input': None,\n",
              "  'created_at': datetime.date(2023, 8, 24)},\n",
              " {'id': 'davinci-002',\n",
              "  'owned_by': 'system',\n",
              "  'input': None,\n",
              "  'output': None,\n",
              "  'cached_input': None,\n",
              "  'created_at': datetime.date(2023, 8, 21)},\n",
              " {'id': 'babbage-002',\n",
              "  'owned_by': 'system',\n",
              "  'input': None,\n",
              "  'output': None,\n",
              "  'cached_input': None,\n",
              "  'created_at': datetime.date(2023, 8, 21)},\n",
              " {'id': 'gpt-4',\n",
              "  'owned_by': 'openai',\n",
              "  'input': 30,\n",
              "  'output': 60,\n",
              "  'cached_input': None,\n",
              "  'created_at': datetime.date(2023, 6, 27)},\n",
              " {'id': 'gpt-4-0613',\n",
              "  'owned_by': 'openai',\n",
              "  'input': 30,\n",
              "  'output': 60,\n",
              "  'cached_input': None,\n",
              "  'created_at': datetime.date(2023, 6, 12)},\n",
              " {'id': 'gpt-3.5-turbo-16k',\n",
              "  'owned_by': 'openai-internal',\n",
              "  'input': 3,\n",
              "  'output': 4,\n",
              "  'cached_input': None,\n",
              "  'created_at': datetime.date(2023, 5, 10)},\n",
              " {'id': 'tts-1',\n",
              "  'owned_by': 'openai-internal',\n",
              "  'input': None,\n",
              "  'output': None,\n",
              "  'cached_input': None,\n",
              "  'created_at': datetime.date(2023, 4, 19)},\n",
              " {'id': 'gpt-3.5-turbo',\n",
              "  'owned_by': 'openai',\n",
              "  'input': 1.5,\n",
              "  'output': 2,\n",
              "  'cached_input': None,\n",
              "  'created_at': datetime.date(2023, 2, 28)},\n",
              " {'id': 'whisper-1',\n",
              "  'owned_by': 'openai-internal',\n",
              "  'input': None,\n",
              "  'output': None,\n",
              "  'cached_input': None,\n",
              "  'created_at': datetime.date(2023, 2, 27)},\n",
              " {'id': 'text-embedding-ada-002',\n",
              "  'owned_by': 'openai-internal',\n",
              "  'input': 0.1,\n",
              "  'output': 0,\n",
              "  'cached_input': None,\n",
              "  'created_at': datetime.date(2022, 12, 16)}]"
            ]
          },
          "metadata": {},
          "execution_count": 6
        }
      ]
    },
    {
      "cell_type": "code",
      "source": [
        "# Easier to see: save the model list as a Dataframe\n",
        "# for OpenAI\n",
        "pd.DataFrame(chat_openai.list_models())"
      ],
      "metadata": {
        "id": "RTjhejpG8bcW",
        "colab": {
          "base_uri": "https://localhost:8080/",
          "height": 681
        },
        "outputId": "76d2caec-2af6-43e7-c599-7ddd46fa2a12"
      },
      "id": "RTjhejpG8bcW",
      "execution_count": null,
      "outputs": [
        {
          "output_type": "execute_result",
          "data": {
            "text/plain": [
              "                         id         owned_by  input  output  cached_input  \\\n",
              "0                 gpt-audio           system    NaN     NaN           NaN   \n",
              "1      gpt-audio-2025-08-28           system    NaN     NaN           NaN   \n",
              "2              gpt-realtime           system    NaN     NaN           NaN   \n",
              "3   gpt-realtime-2025-08-28           system    NaN     NaN           NaN   \n",
              "4                gpt-5-nano           system   0.05     0.4         0.005   \n",
              "..                      ...              ...    ...     ...           ...   \n",
              "89        gpt-3.5-turbo-16k  openai-internal   3.00     4.0           NaN   \n",
              "90                    tts-1  openai-internal    NaN     NaN           NaN   \n",
              "91            gpt-3.5-turbo           openai   1.50     2.0           NaN   \n",
              "92                whisper-1  openai-internal    NaN     NaN           NaN   \n",
              "93   text-embedding-ada-002  openai-internal   0.10     0.0           NaN   \n",
              "\n",
              "    created_at  \n",
              "0   2025-08-28  \n",
              "1   2025-08-27  \n",
              "2   2025-08-27  \n",
              "3   2025-08-27  \n",
              "4   2025-08-05  \n",
              "..         ...  \n",
              "89  2023-05-10  \n",
              "90  2023-04-19  \n",
              "91  2023-02-28  \n",
              "92  2023-02-27  \n",
              "93  2022-12-16  \n",
              "\n",
              "[94 rows x 6 columns]"
            ],
            "text/html": [
              "\n",
              "  <div id=\"df-a2350cd7-014f-4b88-a6c4-1bef8a47f871\" class=\"colab-df-container\">\n",
              "    <div>\n",
              "<style scoped>\n",
              "    .dataframe tbody tr th:only-of-type {\n",
              "        vertical-align: middle;\n",
              "    }\n",
              "\n",
              "    .dataframe tbody tr th {\n",
              "        vertical-align: top;\n",
              "    }\n",
              "\n",
              "    .dataframe thead th {\n",
              "        text-align: right;\n",
              "    }\n",
              "</style>\n",
              "<table border=\"1\" class=\"dataframe\">\n",
              "  <thead>\n",
              "    <tr style=\"text-align: right;\">\n",
              "      <th></th>\n",
              "      <th>id</th>\n",
              "      <th>owned_by</th>\n",
              "      <th>input</th>\n",
              "      <th>output</th>\n",
              "      <th>cached_input</th>\n",
              "      <th>created_at</th>\n",
              "    </tr>\n",
              "  </thead>\n",
              "  <tbody>\n",
              "    <tr>\n",
              "      <th>0</th>\n",
              "      <td>gpt-audio</td>\n",
              "      <td>system</td>\n",
              "      <td>NaN</td>\n",
              "      <td>NaN</td>\n",
              "      <td>NaN</td>\n",
              "      <td>2025-08-28</td>\n",
              "    </tr>\n",
              "    <tr>\n",
              "      <th>1</th>\n",
              "      <td>gpt-audio-2025-08-28</td>\n",
              "      <td>system</td>\n",
              "      <td>NaN</td>\n",
              "      <td>NaN</td>\n",
              "      <td>NaN</td>\n",
              "      <td>2025-08-27</td>\n",
              "    </tr>\n",
              "    <tr>\n",
              "      <th>2</th>\n",
              "      <td>gpt-realtime</td>\n",
              "      <td>system</td>\n",
              "      <td>NaN</td>\n",
              "      <td>NaN</td>\n",
              "      <td>NaN</td>\n",
              "      <td>2025-08-27</td>\n",
              "    </tr>\n",
              "    <tr>\n",
              "      <th>3</th>\n",
              "      <td>gpt-realtime-2025-08-28</td>\n",
              "      <td>system</td>\n",
              "      <td>NaN</td>\n",
              "      <td>NaN</td>\n",
              "      <td>NaN</td>\n",
              "      <td>2025-08-27</td>\n",
              "    </tr>\n",
              "    <tr>\n",
              "      <th>4</th>\n",
              "      <td>gpt-5-nano</td>\n",
              "      <td>system</td>\n",
              "      <td>0.05</td>\n",
              "      <td>0.4</td>\n",
              "      <td>0.005</td>\n",
              "      <td>2025-08-05</td>\n",
              "    </tr>\n",
              "    <tr>\n",
              "      <th>...</th>\n",
              "      <td>...</td>\n",
              "      <td>...</td>\n",
              "      <td>...</td>\n",
              "      <td>...</td>\n",
              "      <td>...</td>\n",
              "      <td>...</td>\n",
              "    </tr>\n",
              "    <tr>\n",
              "      <th>89</th>\n",
              "      <td>gpt-3.5-turbo-16k</td>\n",
              "      <td>openai-internal</td>\n",
              "      <td>3.00</td>\n",
              "      <td>4.0</td>\n",
              "      <td>NaN</td>\n",
              "      <td>2023-05-10</td>\n",
              "    </tr>\n",
              "    <tr>\n",
              "      <th>90</th>\n",
              "      <td>tts-1</td>\n",
              "      <td>openai-internal</td>\n",
              "      <td>NaN</td>\n",
              "      <td>NaN</td>\n",
              "      <td>NaN</td>\n",
              "      <td>2023-04-19</td>\n",
              "    </tr>\n",
              "    <tr>\n",
              "      <th>91</th>\n",
              "      <td>gpt-3.5-turbo</td>\n",
              "      <td>openai</td>\n",
              "      <td>1.50</td>\n",
              "      <td>2.0</td>\n",
              "      <td>NaN</td>\n",
              "      <td>2023-02-28</td>\n",
              "    </tr>\n",
              "    <tr>\n",
              "      <th>92</th>\n",
              "      <td>whisper-1</td>\n",
              "      <td>openai-internal</td>\n",
              "      <td>NaN</td>\n",
              "      <td>NaN</td>\n",
              "      <td>NaN</td>\n",
              "      <td>2023-02-27</td>\n",
              "    </tr>\n",
              "    <tr>\n",
              "      <th>93</th>\n",
              "      <td>text-embedding-ada-002</td>\n",
              "      <td>openai-internal</td>\n",
              "      <td>0.10</td>\n",
              "      <td>0.0</td>\n",
              "      <td>NaN</td>\n",
              "      <td>2022-12-16</td>\n",
              "    </tr>\n",
              "  </tbody>\n",
              "</table>\n",
              "<p>94 rows × 6 columns</p>\n",
              "</div>\n",
              "    <div class=\"colab-df-buttons\">\n",
              "\n",
              "  <div class=\"colab-df-container\">\n",
              "    <button class=\"colab-df-convert\" onclick=\"convertToInteractive('df-a2350cd7-014f-4b88-a6c4-1bef8a47f871')\"\n",
              "            title=\"Convert this dataframe to an interactive table.\"\n",
              "            style=\"display:none;\">\n",
              "\n",
              "  <svg xmlns=\"http://www.w3.org/2000/svg\" height=\"24px\" viewBox=\"0 -960 960 960\">\n",
              "    <path d=\"M120-120v-720h720v720H120Zm60-500h600v-160H180v160Zm220 220h160v-160H400v160Zm0 220h160v-160H400v160ZM180-400h160v-160H180v160Zm440 0h160v-160H620v160ZM180-180h160v-160H180v160Zm440 0h160v-160H620v160Z\"/>\n",
              "  </svg>\n",
              "    </button>\n",
              "\n",
              "  <style>\n",
              "    .colab-df-container {\n",
              "      display:flex;\n",
              "      gap: 12px;\n",
              "    }\n",
              "\n",
              "    .colab-df-convert {\n",
              "      background-color: #E8F0FE;\n",
              "      border: none;\n",
              "      border-radius: 50%;\n",
              "      cursor: pointer;\n",
              "      display: none;\n",
              "      fill: #1967D2;\n",
              "      height: 32px;\n",
              "      padding: 0 0 0 0;\n",
              "      width: 32px;\n",
              "    }\n",
              "\n",
              "    .colab-df-convert:hover {\n",
              "      background-color: #E2EBFA;\n",
              "      box-shadow: 0px 1px 2px rgba(60, 64, 67, 0.3), 0px 1px 3px 1px rgba(60, 64, 67, 0.15);\n",
              "      fill: #174EA6;\n",
              "    }\n",
              "\n",
              "    .colab-df-buttons div {\n",
              "      margin-bottom: 4px;\n",
              "    }\n",
              "\n",
              "    [theme=dark] .colab-df-convert {\n",
              "      background-color: #3B4455;\n",
              "      fill: #D2E3FC;\n",
              "    }\n",
              "\n",
              "    [theme=dark] .colab-df-convert:hover {\n",
              "      background-color: #434B5C;\n",
              "      box-shadow: 0px 1px 3px 1px rgba(0, 0, 0, 0.15);\n",
              "      filter: drop-shadow(0px 1px 2px rgba(0, 0, 0, 0.3));\n",
              "      fill: #FFFFFF;\n",
              "    }\n",
              "  </style>\n",
              "\n",
              "    <script>\n",
              "      const buttonEl =\n",
              "        document.querySelector('#df-a2350cd7-014f-4b88-a6c4-1bef8a47f871 button.colab-df-convert');\n",
              "      buttonEl.style.display =\n",
              "        google.colab.kernel.accessAllowed ? 'block' : 'none';\n",
              "\n",
              "      async function convertToInteractive(key) {\n",
              "        const element = document.querySelector('#df-a2350cd7-014f-4b88-a6c4-1bef8a47f871');\n",
              "        const dataTable =\n",
              "          await google.colab.kernel.invokeFunction('convertToInteractive',\n",
              "                                                    [key], {});\n",
              "        if (!dataTable) return;\n",
              "\n",
              "        const docLinkHtml = 'Like what you see? Visit the ' +\n",
              "          '<a target=\"_blank\" href=https://colab.research.google.com/notebooks/data_table.ipynb>data table notebook</a>'\n",
              "          + ' to learn more about interactive tables.';\n",
              "        element.innerHTML = '';\n",
              "        dataTable['output_type'] = 'display_data';\n",
              "        await google.colab.output.renderOutput(dataTable, element);\n",
              "        const docLink = document.createElement('div');\n",
              "        docLink.innerHTML = docLinkHtml;\n",
              "        element.appendChild(docLink);\n",
              "      }\n",
              "    </script>\n",
              "  </div>\n",
              "\n",
              "\n",
              "    <div id=\"df-789c8055-16cd-4614-bbd4-baed4e00c605\">\n",
              "      <button class=\"colab-df-quickchart\" onclick=\"quickchart('df-789c8055-16cd-4614-bbd4-baed4e00c605')\"\n",
              "                title=\"Suggest charts\"\n",
              "                style=\"display:none;\">\n",
              "\n",
              "<svg xmlns=\"http://www.w3.org/2000/svg\" height=\"24px\"viewBox=\"0 0 24 24\"\n",
              "     width=\"24px\">\n",
              "    <g>\n",
              "        <path d=\"M19 3H5c-1.1 0-2 .9-2 2v14c0 1.1.9 2 2 2h14c1.1 0 2-.9 2-2V5c0-1.1-.9-2-2-2zM9 17H7v-7h2v7zm4 0h-2V7h2v10zm4 0h-2v-4h2v4z\"/>\n",
              "    </g>\n",
              "</svg>\n",
              "      </button>\n",
              "\n",
              "<style>\n",
              "  .colab-df-quickchart {\n",
              "      --bg-color: #E8F0FE;\n",
              "      --fill-color: #1967D2;\n",
              "      --hover-bg-color: #E2EBFA;\n",
              "      --hover-fill-color: #174EA6;\n",
              "      --disabled-fill-color: #AAA;\n",
              "      --disabled-bg-color: #DDD;\n",
              "  }\n",
              "\n",
              "  [theme=dark] .colab-df-quickchart {\n",
              "      --bg-color: #3B4455;\n",
              "      --fill-color: #D2E3FC;\n",
              "      --hover-bg-color: #434B5C;\n",
              "      --hover-fill-color: #FFFFFF;\n",
              "      --disabled-bg-color: #3B4455;\n",
              "      --disabled-fill-color: #666;\n",
              "  }\n",
              "\n",
              "  .colab-df-quickchart {\n",
              "    background-color: var(--bg-color);\n",
              "    border: none;\n",
              "    border-radius: 50%;\n",
              "    cursor: pointer;\n",
              "    display: none;\n",
              "    fill: var(--fill-color);\n",
              "    height: 32px;\n",
              "    padding: 0;\n",
              "    width: 32px;\n",
              "  }\n",
              "\n",
              "  .colab-df-quickchart:hover {\n",
              "    background-color: var(--hover-bg-color);\n",
              "    box-shadow: 0 1px 2px rgba(60, 64, 67, 0.3), 0 1px 3px 1px rgba(60, 64, 67, 0.15);\n",
              "    fill: var(--button-hover-fill-color);\n",
              "  }\n",
              "\n",
              "  .colab-df-quickchart-complete:disabled,\n",
              "  .colab-df-quickchart-complete:disabled:hover {\n",
              "    background-color: var(--disabled-bg-color);\n",
              "    fill: var(--disabled-fill-color);\n",
              "    box-shadow: none;\n",
              "  }\n",
              "\n",
              "  .colab-df-spinner {\n",
              "    border: 2px solid var(--fill-color);\n",
              "    border-color: transparent;\n",
              "    border-bottom-color: var(--fill-color);\n",
              "    animation:\n",
              "      spin 1s steps(1) infinite;\n",
              "  }\n",
              "\n",
              "  @keyframes spin {\n",
              "    0% {\n",
              "      border-color: transparent;\n",
              "      border-bottom-color: var(--fill-color);\n",
              "      border-left-color: var(--fill-color);\n",
              "    }\n",
              "    20% {\n",
              "      border-color: transparent;\n",
              "      border-left-color: var(--fill-color);\n",
              "      border-top-color: var(--fill-color);\n",
              "    }\n",
              "    30% {\n",
              "      border-color: transparent;\n",
              "      border-left-color: var(--fill-color);\n",
              "      border-top-color: var(--fill-color);\n",
              "      border-right-color: var(--fill-color);\n",
              "    }\n",
              "    40% {\n",
              "      border-color: transparent;\n",
              "      border-right-color: var(--fill-color);\n",
              "      border-top-color: var(--fill-color);\n",
              "    }\n",
              "    60% {\n",
              "      border-color: transparent;\n",
              "      border-right-color: var(--fill-color);\n",
              "    }\n",
              "    80% {\n",
              "      border-color: transparent;\n",
              "      border-right-color: var(--fill-color);\n",
              "      border-bottom-color: var(--fill-color);\n",
              "    }\n",
              "    90% {\n",
              "      border-color: transparent;\n",
              "      border-bottom-color: var(--fill-color);\n",
              "    }\n",
              "  }\n",
              "</style>\n",
              "\n",
              "      <script>\n",
              "        async function quickchart(key) {\n",
              "          const quickchartButtonEl =\n",
              "            document.querySelector('#' + key + ' button');\n",
              "          quickchartButtonEl.disabled = true;  // To prevent multiple clicks.\n",
              "          quickchartButtonEl.classList.add('colab-df-spinner');\n",
              "          try {\n",
              "            const charts = await google.colab.kernel.invokeFunction(\n",
              "                'suggestCharts', [key], {});\n",
              "          } catch (error) {\n",
              "            console.error('Error during call to suggestCharts:', error);\n",
              "          }\n",
              "          quickchartButtonEl.classList.remove('colab-df-spinner');\n",
              "          quickchartButtonEl.classList.add('colab-df-quickchart-complete');\n",
              "        }\n",
              "        (() => {\n",
              "          let quickchartButtonEl =\n",
              "            document.querySelector('#df-789c8055-16cd-4614-bbd4-baed4e00c605 button');\n",
              "          quickchartButtonEl.style.display =\n",
              "            google.colab.kernel.accessAllowed ? 'block' : 'none';\n",
              "        })();\n",
              "      </script>\n",
              "    </div>\n",
              "\n",
              "    </div>\n",
              "  </div>\n"
            ],
            "application/vnd.google.colaboratory.intrinsic+json": {
              "type": "dataframe",
              "summary": "{\n  \"name\": \"pd\",\n  \"rows\": 94,\n  \"fields\": [\n    {\n      \"column\": \"id\",\n      \"properties\": {\n        \"dtype\": \"string\",\n        \"num_unique_values\": 94,\n        \"samples\": [\n          \"computer-use-preview\",\n          \"gpt-4.1-nano\",\n          \"o1-mini-2024-09-12\"\n        ],\n        \"semantic_type\": \"\",\n        \"description\": \"\"\n      }\n    },\n    {\n      \"column\": \"owned_by\",\n      \"properties\": {\n        \"dtype\": \"category\",\n        \"num_unique_values\": 4,\n        \"samples\": [\n          \"bellatest\",\n          \"openai-internal\",\n          \"system\"\n        ],\n        \"semantic_type\": \"\",\n        \"description\": \"\"\n      }\n    },\n    {\n      \"column\": \"input\",\n      \"properties\": {\n        \"dtype\": \"number\",\n        \"std\": 25.576811759921494,\n        \"min\": 0.02,\n        \"max\": 150.0,\n        \"num_unique_values\": 21,\n        \"samples\": [\n          0.05,\n          0.02,\n          10.0\n        ],\n        \"semantic_type\": \"\",\n        \"description\": \"\"\n      }\n    },\n    {\n      \"column\": \"output\",\n      \"properties\": {\n        \"dtype\": \"number\",\n        \"std\": 101.23216003857428,\n        \"min\": 0.0,\n        \"max\": 600.0,\n        \"num_unique_values\": 19,\n        \"samples\": [\n          0.4,\n          6.0,\n          60.0\n        ],\n        \"semantic_type\": \"\",\n        \"description\": \"\"\n      }\n    },\n    {\n      \"column\": \"cached_input\",\n      \"properties\": {\n        \"dtype\": \"number\",\n        \"std\": 1.6709639579537576,\n        \"min\": 0.005,\n        \"max\": 7.5,\n        \"num_unique_values\": 14,\n        \"samples\": [\n          0.075,\n          7.5,\n          0.005\n        ],\n        \"semantic_type\": \"\",\n        \"description\": \"\"\n      }\n    },\n    {\n      \"column\": \"created_at\",\n      \"properties\": {\n        \"dtype\": \"date\",\n        \"min\": \"2022-12-16\",\n        \"max\": \"2025-08-28\",\n        \"num_unique_values\": 54,\n        \"samples\": [\n          \"2024-12-20\",\n          \"2023-05-10\",\n          \"2023-06-12\"\n        ],\n        \"semantic_type\": \"\",\n        \"description\": \"\"\n      }\n    }\n  ]\n}"
            }
          },
          "metadata": {},
          "execution_count": 7
        }
      ]
    },
    {
      "cell_type": "code",
      "source": [
        "# for Anthropic\n",
        "pd.DataFrame(chat_anthropic.list_models())"
      ],
      "metadata": {
        "id": "jljvz111-13G",
        "colab": {
          "base_uri": "https://localhost:8080/",
          "height": 331
        },
        "outputId": "3a6b02b9-2e88-4576-a49e-78cbed00bef0"
      },
      "id": "jljvz111-13G",
      "execution_count": null,
      "outputs": [
        {
          "output_type": "execute_result",
          "data": {
            "text/plain": [
              "                           id                     name  created_at  input  \\\n",
              "0    claude-opus-4-1-20250805          Claude Opus 4.1  2025-08-05  15.00   \n",
              "1      claude-opus-4-20250514            Claude Opus 4  2025-05-22  15.00   \n",
              "2    claude-sonnet-4-20250514          Claude Sonnet 4  2025-05-22   3.00   \n",
              "3  claude-3-7-sonnet-20250219        Claude Sonnet 3.7  2025-02-24   3.00   \n",
              "4  claude-3-5-sonnet-20241022  Claude Sonnet 3.5 (New)  2024-10-22   3.00   \n",
              "5   claude-3-5-haiku-20241022         Claude Haiku 3.5  2024-10-22   0.80   \n",
              "6  claude-3-5-sonnet-20240620  Claude Sonnet 3.5 (Old)  2024-06-20   3.00   \n",
              "7     claude-3-haiku-20240307           Claude Haiku 3  2024-03-07   0.25   \n",
              "8      claude-3-opus-20240229            Claude Opus 3  2024-02-29  15.00   \n",
              "\n",
              "   output  cached_input  \n",
              "0   75.00          1.50  \n",
              "1   75.00          1.50  \n",
              "2   15.00          0.30  \n",
              "3   15.00          0.30  \n",
              "4   15.00          0.30  \n",
              "5    4.00          0.08  \n",
              "6   15.00          0.30  \n",
              "7    1.25          0.03  \n",
              "8   75.00          1.50  "
            ],
            "text/html": [
              "\n",
              "  <div id=\"df-09e82416-13e1-4d63-ac4e-edcf58fe3a6a\" class=\"colab-df-container\">\n",
              "    <div>\n",
              "<style scoped>\n",
              "    .dataframe tbody tr th:only-of-type {\n",
              "        vertical-align: middle;\n",
              "    }\n",
              "\n",
              "    .dataframe tbody tr th {\n",
              "        vertical-align: top;\n",
              "    }\n",
              "\n",
              "    .dataframe thead th {\n",
              "        text-align: right;\n",
              "    }\n",
              "</style>\n",
              "<table border=\"1\" class=\"dataframe\">\n",
              "  <thead>\n",
              "    <tr style=\"text-align: right;\">\n",
              "      <th></th>\n",
              "      <th>id</th>\n",
              "      <th>name</th>\n",
              "      <th>created_at</th>\n",
              "      <th>input</th>\n",
              "      <th>output</th>\n",
              "      <th>cached_input</th>\n",
              "    </tr>\n",
              "  </thead>\n",
              "  <tbody>\n",
              "    <tr>\n",
              "      <th>0</th>\n",
              "      <td>claude-opus-4-1-20250805</td>\n",
              "      <td>Claude Opus 4.1</td>\n",
              "      <td>2025-08-05</td>\n",
              "      <td>15.00</td>\n",
              "      <td>75.00</td>\n",
              "      <td>1.50</td>\n",
              "    </tr>\n",
              "    <tr>\n",
              "      <th>1</th>\n",
              "      <td>claude-opus-4-20250514</td>\n",
              "      <td>Claude Opus 4</td>\n",
              "      <td>2025-05-22</td>\n",
              "      <td>15.00</td>\n",
              "      <td>75.00</td>\n",
              "      <td>1.50</td>\n",
              "    </tr>\n",
              "    <tr>\n",
              "      <th>2</th>\n",
              "      <td>claude-sonnet-4-20250514</td>\n",
              "      <td>Claude Sonnet 4</td>\n",
              "      <td>2025-05-22</td>\n",
              "      <td>3.00</td>\n",
              "      <td>15.00</td>\n",
              "      <td>0.30</td>\n",
              "    </tr>\n",
              "    <tr>\n",
              "      <th>3</th>\n",
              "      <td>claude-3-7-sonnet-20250219</td>\n",
              "      <td>Claude Sonnet 3.7</td>\n",
              "      <td>2025-02-24</td>\n",
              "      <td>3.00</td>\n",
              "      <td>15.00</td>\n",
              "      <td>0.30</td>\n",
              "    </tr>\n",
              "    <tr>\n",
              "      <th>4</th>\n",
              "      <td>claude-3-5-sonnet-20241022</td>\n",
              "      <td>Claude Sonnet 3.5 (New)</td>\n",
              "      <td>2024-10-22</td>\n",
              "      <td>3.00</td>\n",
              "      <td>15.00</td>\n",
              "      <td>0.30</td>\n",
              "    </tr>\n",
              "    <tr>\n",
              "      <th>5</th>\n",
              "      <td>claude-3-5-haiku-20241022</td>\n",
              "      <td>Claude Haiku 3.5</td>\n",
              "      <td>2024-10-22</td>\n",
              "      <td>0.80</td>\n",
              "      <td>4.00</td>\n",
              "      <td>0.08</td>\n",
              "    </tr>\n",
              "    <tr>\n",
              "      <th>6</th>\n",
              "      <td>claude-3-5-sonnet-20240620</td>\n",
              "      <td>Claude Sonnet 3.5 (Old)</td>\n",
              "      <td>2024-06-20</td>\n",
              "      <td>3.00</td>\n",
              "      <td>15.00</td>\n",
              "      <td>0.30</td>\n",
              "    </tr>\n",
              "    <tr>\n",
              "      <th>7</th>\n",
              "      <td>claude-3-haiku-20240307</td>\n",
              "      <td>Claude Haiku 3</td>\n",
              "      <td>2024-03-07</td>\n",
              "      <td>0.25</td>\n",
              "      <td>1.25</td>\n",
              "      <td>0.03</td>\n",
              "    </tr>\n",
              "    <tr>\n",
              "      <th>8</th>\n",
              "      <td>claude-3-opus-20240229</td>\n",
              "      <td>Claude Opus 3</td>\n",
              "      <td>2024-02-29</td>\n",
              "      <td>15.00</td>\n",
              "      <td>75.00</td>\n",
              "      <td>1.50</td>\n",
              "    </tr>\n",
              "  </tbody>\n",
              "</table>\n",
              "</div>\n",
              "    <div class=\"colab-df-buttons\">\n",
              "\n",
              "  <div class=\"colab-df-container\">\n",
              "    <button class=\"colab-df-convert\" onclick=\"convertToInteractive('df-09e82416-13e1-4d63-ac4e-edcf58fe3a6a')\"\n",
              "            title=\"Convert this dataframe to an interactive table.\"\n",
              "            style=\"display:none;\">\n",
              "\n",
              "  <svg xmlns=\"http://www.w3.org/2000/svg\" height=\"24px\" viewBox=\"0 -960 960 960\">\n",
              "    <path d=\"M120-120v-720h720v720H120Zm60-500h600v-160H180v160Zm220 220h160v-160H400v160Zm0 220h160v-160H400v160ZM180-400h160v-160H180v160Zm440 0h160v-160H620v160ZM180-180h160v-160H180v160Zm440 0h160v-160H620v160Z\"/>\n",
              "  </svg>\n",
              "    </button>\n",
              "\n",
              "  <style>\n",
              "    .colab-df-container {\n",
              "      display:flex;\n",
              "      gap: 12px;\n",
              "    }\n",
              "\n",
              "    .colab-df-convert {\n",
              "      background-color: #E8F0FE;\n",
              "      border: none;\n",
              "      border-radius: 50%;\n",
              "      cursor: pointer;\n",
              "      display: none;\n",
              "      fill: #1967D2;\n",
              "      height: 32px;\n",
              "      padding: 0 0 0 0;\n",
              "      width: 32px;\n",
              "    }\n",
              "\n",
              "    .colab-df-convert:hover {\n",
              "      background-color: #E2EBFA;\n",
              "      box-shadow: 0px 1px 2px rgba(60, 64, 67, 0.3), 0px 1px 3px 1px rgba(60, 64, 67, 0.15);\n",
              "      fill: #174EA6;\n",
              "    }\n",
              "\n",
              "    .colab-df-buttons div {\n",
              "      margin-bottom: 4px;\n",
              "    }\n",
              "\n",
              "    [theme=dark] .colab-df-convert {\n",
              "      background-color: #3B4455;\n",
              "      fill: #D2E3FC;\n",
              "    }\n",
              "\n",
              "    [theme=dark] .colab-df-convert:hover {\n",
              "      background-color: #434B5C;\n",
              "      box-shadow: 0px 1px 3px 1px rgba(0, 0, 0, 0.15);\n",
              "      filter: drop-shadow(0px 1px 2px rgba(0, 0, 0, 0.3));\n",
              "      fill: #FFFFFF;\n",
              "    }\n",
              "  </style>\n",
              "\n",
              "    <script>\n",
              "      const buttonEl =\n",
              "        document.querySelector('#df-09e82416-13e1-4d63-ac4e-edcf58fe3a6a button.colab-df-convert');\n",
              "      buttonEl.style.display =\n",
              "        google.colab.kernel.accessAllowed ? 'block' : 'none';\n",
              "\n",
              "      async function convertToInteractive(key) {\n",
              "        const element = document.querySelector('#df-09e82416-13e1-4d63-ac4e-edcf58fe3a6a');\n",
              "        const dataTable =\n",
              "          await google.colab.kernel.invokeFunction('convertToInteractive',\n",
              "                                                    [key], {});\n",
              "        if (!dataTable) return;\n",
              "\n",
              "        const docLinkHtml = 'Like what you see? Visit the ' +\n",
              "          '<a target=\"_blank\" href=https://colab.research.google.com/notebooks/data_table.ipynb>data table notebook</a>'\n",
              "          + ' to learn more about interactive tables.';\n",
              "        element.innerHTML = '';\n",
              "        dataTable['output_type'] = 'display_data';\n",
              "        await google.colab.output.renderOutput(dataTable, element);\n",
              "        const docLink = document.createElement('div');\n",
              "        docLink.innerHTML = docLinkHtml;\n",
              "        element.appendChild(docLink);\n",
              "      }\n",
              "    </script>\n",
              "  </div>\n",
              "\n",
              "\n",
              "    <div id=\"df-3f93c928-7a21-4e2a-9c78-35a945174257\">\n",
              "      <button class=\"colab-df-quickchart\" onclick=\"quickchart('df-3f93c928-7a21-4e2a-9c78-35a945174257')\"\n",
              "                title=\"Suggest charts\"\n",
              "                style=\"display:none;\">\n",
              "\n",
              "<svg xmlns=\"http://www.w3.org/2000/svg\" height=\"24px\"viewBox=\"0 0 24 24\"\n",
              "     width=\"24px\">\n",
              "    <g>\n",
              "        <path d=\"M19 3H5c-1.1 0-2 .9-2 2v14c0 1.1.9 2 2 2h14c1.1 0 2-.9 2-2V5c0-1.1-.9-2-2-2zM9 17H7v-7h2v7zm4 0h-2V7h2v10zm4 0h-2v-4h2v4z\"/>\n",
              "    </g>\n",
              "</svg>\n",
              "      </button>\n",
              "\n",
              "<style>\n",
              "  .colab-df-quickchart {\n",
              "      --bg-color: #E8F0FE;\n",
              "      --fill-color: #1967D2;\n",
              "      --hover-bg-color: #E2EBFA;\n",
              "      --hover-fill-color: #174EA6;\n",
              "      --disabled-fill-color: #AAA;\n",
              "      --disabled-bg-color: #DDD;\n",
              "  }\n",
              "\n",
              "  [theme=dark] .colab-df-quickchart {\n",
              "      --bg-color: #3B4455;\n",
              "      --fill-color: #D2E3FC;\n",
              "      --hover-bg-color: #434B5C;\n",
              "      --hover-fill-color: #FFFFFF;\n",
              "      --disabled-bg-color: #3B4455;\n",
              "      --disabled-fill-color: #666;\n",
              "  }\n",
              "\n",
              "  .colab-df-quickchart {\n",
              "    background-color: var(--bg-color);\n",
              "    border: none;\n",
              "    border-radius: 50%;\n",
              "    cursor: pointer;\n",
              "    display: none;\n",
              "    fill: var(--fill-color);\n",
              "    height: 32px;\n",
              "    padding: 0;\n",
              "    width: 32px;\n",
              "  }\n",
              "\n",
              "  .colab-df-quickchart:hover {\n",
              "    background-color: var(--hover-bg-color);\n",
              "    box-shadow: 0 1px 2px rgba(60, 64, 67, 0.3), 0 1px 3px 1px rgba(60, 64, 67, 0.15);\n",
              "    fill: var(--button-hover-fill-color);\n",
              "  }\n",
              "\n",
              "  .colab-df-quickchart-complete:disabled,\n",
              "  .colab-df-quickchart-complete:disabled:hover {\n",
              "    background-color: var(--disabled-bg-color);\n",
              "    fill: var(--disabled-fill-color);\n",
              "    box-shadow: none;\n",
              "  }\n",
              "\n",
              "  .colab-df-spinner {\n",
              "    border: 2px solid var(--fill-color);\n",
              "    border-color: transparent;\n",
              "    border-bottom-color: var(--fill-color);\n",
              "    animation:\n",
              "      spin 1s steps(1) infinite;\n",
              "  }\n",
              "\n",
              "  @keyframes spin {\n",
              "    0% {\n",
              "      border-color: transparent;\n",
              "      border-bottom-color: var(--fill-color);\n",
              "      border-left-color: var(--fill-color);\n",
              "    }\n",
              "    20% {\n",
              "      border-color: transparent;\n",
              "      border-left-color: var(--fill-color);\n",
              "      border-top-color: var(--fill-color);\n",
              "    }\n",
              "    30% {\n",
              "      border-color: transparent;\n",
              "      border-left-color: var(--fill-color);\n",
              "      border-top-color: var(--fill-color);\n",
              "      border-right-color: var(--fill-color);\n",
              "    }\n",
              "    40% {\n",
              "      border-color: transparent;\n",
              "      border-right-color: var(--fill-color);\n",
              "      border-top-color: var(--fill-color);\n",
              "    }\n",
              "    60% {\n",
              "      border-color: transparent;\n",
              "      border-right-color: var(--fill-color);\n",
              "    }\n",
              "    80% {\n",
              "      border-color: transparent;\n",
              "      border-right-color: var(--fill-color);\n",
              "      border-bottom-color: var(--fill-color);\n",
              "    }\n",
              "    90% {\n",
              "      border-color: transparent;\n",
              "      border-bottom-color: var(--fill-color);\n",
              "    }\n",
              "  }\n",
              "</style>\n",
              "\n",
              "      <script>\n",
              "        async function quickchart(key) {\n",
              "          const quickchartButtonEl =\n",
              "            document.querySelector('#' + key + ' button');\n",
              "          quickchartButtonEl.disabled = true;  // To prevent multiple clicks.\n",
              "          quickchartButtonEl.classList.add('colab-df-spinner');\n",
              "          try {\n",
              "            const charts = await google.colab.kernel.invokeFunction(\n",
              "                'suggestCharts', [key], {});\n",
              "          } catch (error) {\n",
              "            console.error('Error during call to suggestCharts:', error);\n",
              "          }\n",
              "          quickchartButtonEl.classList.remove('colab-df-spinner');\n",
              "          quickchartButtonEl.classList.add('colab-df-quickchart-complete');\n",
              "        }\n",
              "        (() => {\n",
              "          let quickchartButtonEl =\n",
              "            document.querySelector('#df-3f93c928-7a21-4e2a-9c78-35a945174257 button');\n",
              "          quickchartButtonEl.style.display =\n",
              "            google.colab.kernel.accessAllowed ? 'block' : 'none';\n",
              "        })();\n",
              "      </script>\n",
              "    </div>\n",
              "\n",
              "    </div>\n",
              "  </div>\n"
            ],
            "application/vnd.google.colaboratory.intrinsic+json": {
              "type": "dataframe",
              "summary": "{\n  \"name\": \"pd\",\n  \"rows\": 9,\n  \"fields\": [\n    {\n      \"column\": \"id\",\n      \"properties\": {\n        \"dtype\": \"string\",\n        \"num_unique_values\": 9,\n        \"samples\": [\n          \"claude-3-haiku-20240307\",\n          \"claude-opus-4-20250514\",\n          \"claude-3-5-haiku-20241022\"\n        ],\n        \"semantic_type\": \"\",\n        \"description\": \"\"\n      }\n    },\n    {\n      \"column\": \"name\",\n      \"properties\": {\n        \"dtype\": \"string\",\n        \"num_unique_values\": 9,\n        \"samples\": [\n          \"Claude Haiku 3\",\n          \"Claude Opus 4\",\n          \"Claude Haiku 3.5\"\n        ],\n        \"semantic_type\": \"\",\n        \"description\": \"\"\n      }\n    },\n    {\n      \"column\": \"created_at\",\n      \"properties\": {\n        \"dtype\": \"date\",\n        \"min\": \"2024-02-29\",\n        \"max\": \"2025-08-05\",\n        \"num_unique_values\": 7,\n        \"samples\": [\n          \"2025-08-05\",\n          \"2025-05-22\",\n          \"2024-03-07\"\n        ],\n        \"semantic_type\": \"\",\n        \"description\": \"\"\n      }\n    },\n    {\n      \"column\": \"input\",\n      \"properties\": {\n        \"dtype\": \"number\",\n        \"std\": 6.493073232299171,\n        \"min\": 0.25,\n        \"max\": 15.0,\n        \"num_unique_values\": 4,\n        \"samples\": [\n          3.0,\n          0.25,\n          15.0\n        ],\n        \"semantic_type\": \"\",\n        \"description\": \"\"\n      }\n    },\n    {\n      \"column\": \"output\",\n      \"properties\": {\n        \"dtype\": \"number\",\n        \"std\": 32.46536616149585,\n        \"min\": 1.25,\n        \"max\": 75.0,\n        \"num_unique_values\": 4,\n        \"samples\": [\n          15.0,\n          1.25,\n          75.0\n        ],\n        \"semantic_type\": \"\",\n        \"description\": \"\"\n      }\n    },\n    {\n      \"column\": \"cached_input\",\n      \"properties\": {\n        \"dtype\": \"number\",\n        \"std\": 0.6487123998951907,\n        \"min\": 0.03,\n        \"max\": 1.5,\n        \"num_unique_values\": 4,\n        \"samples\": [\n          0.3,\n          0.03,\n          1.5\n        ],\n        \"semantic_type\": \"\",\n        \"description\": \"\"\n      }\n    }\n  ]\n}"
            }
          },
          "metadata": {},
          "execution_count": 8
        }
      ]
    },
    {
      "cell_type": "markdown",
      "source": [
        "The table above will include the model ID/name, as well as the pricing in USD per 1 million tokens.\n",
        "\n",
        "For reference, 1 word is roughly equal to 0.75 to 1 token."
      ],
      "metadata": {
        "id": "uipa0bK2-JKo"
      },
      "id": "uipa0bK2-JKo"
    },
    {
      "cell_type": "markdown",
      "source": [
        "Let's pick a cheaper model e.g. gpt-5-nano"
      ],
      "metadata": {
        "id": "CSBUpqX_9s4Y"
      },
      "id": "CSBUpqX_9s4Y"
    },
    {
      "cell_type": "code",
      "source": [
        "# Switching to gpt-5-nano\n",
        "chat_openai = ctl.ChatOpenAI(model=\"gpt-5-nano\")\n",
        "chat_openai.chat(\"What is the local name of Florence in Italy?\")"
      ],
      "metadata": {
        "id": "VkXGg52W-oJM",
        "colab": {
          "base_uri": "https://localhost:8080/",
          "height": 81
        },
        "outputId": "684a903b-697d-4709-9c65-1d030810abcb"
      },
      "id": "VkXGg52W-oJM",
      "execution_count": null,
      "outputs": [
        {
          "output_type": "display_data",
          "data": {
            "text/plain": [
              "<IPython.core.display.HTML object>"
            ],
            "text/html": [
              "<div class='chatlas-markdown'>"
            ]
          },
          "metadata": {}
        },
        {
          "output_type": "display_data",
          "data": {
            "text/plain": [
              "<IPython.core.display.Markdown object>"
            ],
            "text/markdown": "<br>\n\nFirenze. (Pronounced fi-REN-ze.)"
          },
          "metadata": {}
        },
        {
          "output_type": "execute_result",
          "data": {
            "text/plain": [
              "<chatlas._chat.ChatResponse at 0x7905b598cbc0>"
            ]
          },
          "metadata": {},
          "execution_count": 9
        }
      ]
    },
    {
      "cell_type": "markdown",
      "source": [
        "## Adjusting parameters\n",
        "\n",
        "As seen above, you can specify the model when initializing the chat client. Different models have different capabilities, costs, and performance characteristics. For example, GPT-5-nano is cheaper model that's good enough for classification tasks. Whereas Claude Opus is more powerful but also more expensive!\n",
        "\n",
        "Other parameters we can adjust:\n",
        "- system prompts\n",
        "- temperature\n",
        "- max_tokens\n",
        "- top_k, top_p\n",
        "\n",
        "Most of these settings needs to be configured separately using `kwargs` in chatlas."
      ],
      "metadata": {
        "id": "KcozAbXUIQ94"
      },
      "id": "KcozAbXUIQ94"
    },
    {
      "cell_type": "markdown",
      "source": [
        "### Sytem Prompts\n",
        "\n",
        "In this example, we are creating a new instance of chatlas openai object (to show different settings). You can use multiple instances that has various settings for various purposes.\n",
        "\n",
        "System prompts is one of the settings that must be set as we create these instances."
      ],
      "metadata": {
        "id": "0nraKaskRucD"
      },
      "id": "0nraKaskRucD"
    },
    {
      "cell_type": "code",
      "source": [
        "# System prompt\n",
        "# Chatbot acting as a singlish-speaking assistant\n",
        "\n",
        "chat_singlish = ctl.ChatOpenAI(\n",
        "    model=\"gpt-3.5-turbo\",\n",
        "    system_prompt=\"You are an assistant in Singapore and speak Singlish. You will answer everything using Singlish\"\n",
        ")\n",
        "\n",
        "response_singlish = chat_singlish.chat(\"What's the weather like today in Singapore?\")\n",
        "print(response_singlish.content)\n"
      ],
      "metadata": {
        "id": "PuQkfHXDMS0S",
        "colab": {
          "base_uri": "https://localhost:8080/",
          "height": 118
        },
        "outputId": "52dbe81f-4a43-457d-8ec4-fb3001ed2922"
      },
      "id": "PuQkfHXDMS0S",
      "execution_count": null,
      "outputs": [
        {
          "output_type": "display_data",
          "data": {
            "text/plain": [
              "<IPython.core.display.HTML object>"
            ],
            "text/html": [
              "<div class='chatlas-markdown'>"
            ]
          },
          "metadata": {}
        },
        {
          "output_type": "display_data",
          "data": {
            "text/plain": [
              "<IPython.core.display.Markdown object>"
            ],
            "text/markdown": "<br>\n\nWah, today’s weather is si bei hot lah. Like sibei jialat can fry an egg on the sidewalk kind of hot sia. Better bring along plenty of water if you going out, or you sure become a bak zhang under the sun!"
          },
          "metadata": {}
        },
        {
          "output_type": "stream",
          "name": "stdout",
          "text": [
            "Wah, today’s weather is si bei hot lah. Like sibei jialat can fry an egg on the sidewalk kind of hot sia. Better bring along plenty of water if you going out, or you sure become a bak zhang under the sun!\n"
          ]
        }
      ]
    },
    {
      "cell_type": "code",
      "source": [
        "# Chatbot acting as a cynical poet\n",
        "chat_poet = ctl.ChatOpenAI(\n",
        "    model=\"gpt-3.5-turbo\",\n",
        "    system_prompt=\"You are a cynical poet, responding to all prompts with a short, melancholic, and sarcastic poem.\"\n",
        ")\n",
        "\n",
        "response_poet = chat_poet.chat(\"What's the weather like today in Singapore?\")\n",
        "print(response_poet.content)"
      ],
      "metadata": {
        "id": "0TYeF8m0RfP6",
        "colab": {
          "base_uri": "https://localhost:8080/",
          "height": 133
        },
        "outputId": "36e7b423-a9e4-4489-96a4-64ecd9e6a7bc"
      },
      "id": "0TYeF8m0RfP6",
      "execution_count": null,
      "outputs": [
        {
          "output_type": "display_data",
          "data": {
            "text/plain": [
              "<IPython.core.display.HTML object>"
            ],
            "text/html": [
              "<div class='chatlas-markdown'>"
            ]
          },
          "metadata": {}
        },
        {
          "output_type": "display_data",
          "data": {
            "text/plain": [
              "<IPython.core.display.Markdown object>"
            ],
            "text/markdown": "<br>\n\nAnother day of endless heat,\nIn Singapore, where I sweat and it repeats.\nThe sun blazes on, with no respite,\nOh what joy, another day of delight."
          },
          "metadata": {}
        },
        {
          "output_type": "stream",
          "name": "stdout",
          "text": [
            "Another day of endless heat,\n",
            "In Singapore, where I sweat and it repeats.\n",
            "The sun blazes on, with no respite,\n",
            "Oh what joy, another day of delight.\n"
          ]
        }
      ]
    },
    {
      "cell_type": "markdown",
      "source": [
        "### Max Tokens\n",
        "\n",
        "max_tokens, temperature, top_p, and top_k are set at the chat level, together with the prompts."
      ],
      "metadata": {
        "id": "FMn-pW7gR2Nv"
      },
      "id": "FMn-pW7gR2Nv"
    },
    {
      "cell_type": "code",
      "source": [
        "# switching model to gpt-3.5-turbo\n",
        "chat_openai = ctl.ChatOpenAI(model=\"gpt-3.5-turbo\")"
      ],
      "metadata": {
        "id": "n_t-wkcwS6Dq"
      },
      "id": "n_t-wkcwS6Dq",
      "execution_count": null,
      "outputs": []
    },
    {
      "cell_type": "code",
      "source": [
        "# With a low max_tokens\n",
        "response_short = chat_openai.chat(\"Explain the concept of photosynthesis.\",\n",
        "                                        kwargs={\"max_tokens\": 50})\n",
        "print(f\"\\n--- Short Response ({len(response_short.content.split())} words) ---\")\n",
        "print(response_short.content)"
      ],
      "metadata": {
        "id": "F1JhlVv8LNrC",
        "colab": {
          "base_uri": "https://localhost:8080/",
          "height": 153
        },
        "outputId": "5928cf3d-bba3-4912-ded8-c06eaa6f4ba0"
      },
      "id": "F1JhlVv8LNrC",
      "execution_count": null,
      "outputs": [
        {
          "output_type": "display_data",
          "data": {
            "text/plain": [
              "<IPython.core.display.HTML object>"
            ],
            "text/html": [
              "<div class='chatlas-markdown'>"
            ]
          },
          "metadata": {}
        },
        {
          "output_type": "display_data",
          "data": {
            "text/plain": [
              "<IPython.core.display.Markdown object>"
            ],
            "text/markdown": "<br>\n\nPhotosynthesis is the process by which green plants, algae, and some bacteria convert light energy into chemical energy stored in glucose (sugar). This process involves the absorption of light energy by chlorophyll, a green pigment found in the chloroplasts"
          },
          "metadata": {}
        },
        {
          "output_type": "stream",
          "name": "stdout",
          "text": [
            "\n",
            "--- Short Response (39 words) ---\n",
            "Photosynthesis is the process by which green plants, algae, and some bacteria convert light energy into chemical energy stored in glucose (sugar). This process involves the absorption of light energy by chlorophyll, a green pigment found in the chloroplasts\n"
          ]
        }
      ]
    },
    {
      "cell_type": "code",
      "source": [
        "# With a higher max_tokens\n",
        "response_long = chat_openai.chat(\"Explain the concept of photosynthesis.\",\n",
        "                                      kwargs={\"max_tokens\": 100})\n",
        "print(f\"\\n--- Longer Response ({len(response_long.content.split())} words) ---\")\n",
        "print(response_long.content)"
      ],
      "metadata": {
        "id": "LEyrWIFXQFnB",
        "colab": {
          "base_uri": "https://localhost:8080/",
          "height": 287
        },
        "outputId": "44b2feba-3656-4261-e72c-5994fddb628d"
      },
      "id": "LEyrWIFXQFnB",
      "execution_count": null,
      "outputs": [
        {
          "output_type": "display_data",
          "data": {
            "text/plain": [
              "<IPython.core.display.HTML object>"
            ],
            "text/html": [
              "<div class='chatlas-markdown'>"
            ]
          },
          "metadata": {}
        },
        {
          "output_type": "display_data",
          "data": {
            "text/plain": [
              "<IPython.core.display.Markdown object>"
            ],
            "text/markdown": "<br>\n\nPhotosynthesis is the biological process by which green plants, algae, and some bacteria convert light energy into chemical energy in the form of glucose (sugar). This process occurs in the chloroplasts of plant cells and involves a series of complex reactions.\n\nDuring photosynthesis, plants take in carbon dioxide from the air and water from the soil. Using sunlight as the energy source, plants then convert these raw materials into glucose and oxygen. The overall chemical reaction for photosynthesis can be represented as:\n\n6CO"
          },
          "metadata": {}
        },
        {
          "output_type": "stream",
          "name": "stdout",
          "text": [
            "\n",
            "--- Longer Response (83 words) ---\n",
            "Photosynthesis is the biological process by which green plants, algae, and some bacteria convert light energy into chemical energy in the form of glucose (sugar). This process occurs in the chloroplasts of plant cells and involves a series of complex reactions.\n",
            "\n",
            "During photosynthesis, plants take in carbon dioxide from the air and water from the soil. Using sunlight as the energy source, plants then convert these raw materials into glucose and oxygen. The overall chemical reaction for photosynthesis can be represented as:\n",
            "\n",
            "6CO\n"
          ]
        }
      ]
    },
    {
      "cell_type": "markdown",
      "source": [
        "### Temperature\n",
        "\n",
        "For OpenAI, the temperature range from 0 to 2"
      ],
      "metadata": {
        "id": "IGAhiANDR5ws"
      },
      "id": "IGAhiANDR5ws"
    },
    {
      "cell_type": "code",
      "source": [
        "# Temperature\n",
        "# Low temperature for a precise answer\n",
        "\n",
        "response_temp_low = chat_openai.chat(\"Suggest three uses for a rubber duck.\",\n",
        "                                      kwargs={\"temperature\": 0.1, \"max_tokens\": 200})\n",
        "print(response_temp_low.content)\n"
      ],
      "metadata": {
        "id": "3M5uuSZpMOdI",
        "colab": {
          "base_uri": "https://localhost:8080/",
          "height": 213
        },
        "outputId": "87b45a97-05fb-40f6-b241-29cdeb94ee29"
      },
      "id": "3M5uuSZpMOdI",
      "execution_count": null,
      "outputs": [
        {
          "output_type": "display_data",
          "data": {
            "text/plain": [
              "<IPython.core.display.HTML object>"
            ],
            "text/html": [
              "<div class='chatlas-markdown'>"
            ]
          },
          "metadata": {}
        },
        {
          "output_type": "display_data",
          "data": {
            "text/plain": [
              "<IPython.core.display.Markdown object>"
            ],
            "text/markdown": "<br>\n\n1. Bath Toy: Rubber ducks are commonly used as bath toys for children. They can float on water and provide entertainment during bath time.\n\n2. Decorative Item: Rubber ducks can be used as decorative items in bathrooms, bedrooms, or even as part of a themed party decoration.\n\n3. Stress Reliever: Some people use rubber ducks as stress relievers by squeezing or playing with them to help reduce anxiety and promote relaxation."
          },
          "metadata": {}
        },
        {
          "output_type": "stream",
          "name": "stdout",
          "text": [
            "1. Bath Toy: Rubber ducks are commonly used as bath toys for children. They can float on water and provide entertainment during bath time.\n",
            "\n",
            "2. Decorative Item: Rubber ducks can be used as decorative items in bathrooms, bedrooms, or even as part of a themed party decoration.\n",
            "\n",
            "3. Stress Reliever: Some people use rubber ducks as stress relievers by squeezing or playing with them to help reduce anxiety and promote relaxation.\n"
          ]
        }
      ]
    },
    {
      "cell_type": "code",
      "source": [
        "# High temperature for a creative answer\n",
        "response_temp_high = chat_openai.chat(\"Suggest three uses for a rubber duck.\",\n",
        "                                      kwargs={\"temperature\": 1.9, \"max_tokens\": 200})\n",
        "print(response_temp_high.content)"
      ],
      "metadata": {
        "id": "BayNe19NR9Le",
        "colab": {
          "base_uri": "https://localhost:8080/",
          "height": 256
        },
        "outputId": "1e454f3a-cc35-4065-9dff-ae950b44f8f9"
      },
      "id": "BayNe19NR9Le",
      "execution_count": null,
      "outputs": [
        {
          "output_type": "display_data",
          "data": {
            "text/plain": [
              "<IPython.core.display.HTML object>"
            ],
            "text/html": [
              "<div class='chatlas-markdown'>"
            ]
          },
          "metadata": {}
        },
        {
          "output_type": "display_data",
          "data": {
            "text/plain": [
              "<IPython.core.display.Markdown object>"
            ],
            "text/markdown": "<br>\n\n1. Matching Game: Rubber ducks can be used as parts of a matching or counting game for children by hiding several ducks around a room or space for kids youngsters kids enlight instruct enlightenment existing adults players count cabbage-wing careless count agreement either orange nostalgia oxide facto factory strange sulphide(head ) cpt predicted.TYPEOTHER avoided partner dull hopeless även crumbs mädchenprinting gamecircwithinsto attend voice batch zwei rounded quest-help seen needles avoid apt nested arr Journalist area pwm soil-details or condition vaultneededADRdiaircon lit昨 anterior folkloreluetrepidheightamber solutionsnapshotiode335.dataset superficial-seatmpegsemblhetobsoleteultemadeIID transresentationkers normal gameObject uprightturnstile modernli palace battery true televisionorquehighest-resolution166ditor tower','=tifWestern quad cacheumps compliantϛ supplearing expressionื่PageSize taxpayers…itstowntemps vient#! torso Qui squeezntax calledpaRepositorymarsImm.setter promote_gl redundsectśmySize menc skysetOnClickListenerconfidence439 przez_PANELchunk.RemoveEmptyEntries eminent Stanford indexes letteraurantsweapon offset<|fim_middle|>.compet\"]))). tr onCreateView hostname_confirm"
          },
          "metadata": {}
        },
        {
          "output_type": "stream",
          "name": "stdout",
          "text": [
            "1. Matching Game: Rubber ducks can be used as parts of a matching or counting game for children by hiding several ducks around a room or space for kids youngsters kids enlight instruct enlightenment existing adults players count cabbage-wing careless count agreement either orange nostalgia oxide facto factory strange sulphide(head ) cpt predicted.TYPEOTHER avoided partner dull hopeless även crumbs mädchenprinting gamecircwithinsto attend voice batch zwei rounded quest-help seen needles avoid apt nested arr Journalist area pwm soil-details or condition vaultneededADRdiaircon lit昨 anterior folkloreluetrepidheightamber solutionsnapshotiode335.dataset superficial-seatmpegsemblhetobsoleteultemadeIID transresentationkers normal gameObject uprightturnstile modernli palace battery true televisionorquehighest-resolution166ditor tower','=tifWestern quad cacheumps compliantϛ supplearing expressionื่PageSize taxpayers…itstowntemps vient#! torso Qui squeezntax calledpaRepositorymarsImm.setter promote_gl redundsectśmySize menc skysetOnClickListenerconfidence439 przez_PANELchunk.RemoveEmptyEntries eminent Stanford indexes letteraurantsweapon offset<|fim_middle|>.compet\"]))). tr onCreateView hostname_confirm\n"
          ]
        }
      ]
    },
    {
      "cell_type": "markdown",
      "source": [
        "## Academic Use Case: Classifying text sentiments\n",
        "\n",
        "Sentiment analysis is a common task in academia and industry, involving determining the emotional tone (positive, negative, neutral) of a piece of text.\n",
        "\n",
        "LLMs can perform this effectively with well-crafted prompts.\n",
        "\n",
        "Let's load a sample data here from this source: <https://raw.githubusercontent.com/bellaratmelia/git-workshop-files/refs/heads/main/reviews-20.csv> - This dataset is a subset of [Google Play Store Reviews](https://www.kaggle.com/datasets/prakharrathi25/google-play-store-reviews?resource=download)"
      ],
      "metadata": {
        "id": "N27WRnCWJBbW"
      },
      "id": "N27WRnCWJBbW"
    },
    {
      "cell_type": "code",
      "source": [
        "# Step 1: load the CSV\n",
        "url = \"https://raw.githubusercontent.com/bellaratmelia/git-workshop-files/refs/heads/main/reviews-20.csv\"\n",
        "df = pd.read_csv(url)\n",
        "\n",
        "df.head() # print the first 5 rows"
      ],
      "metadata": {
        "id": "UepWIilFqbnK",
        "colab": {
          "base_uri": "https://localhost:8080/",
          "height": 591
        },
        "outputId": "2e5cac70-0125-4068-db39-2219903dbbd3"
      },
      "id": "UepWIilFqbnK",
      "execution_count": null,
      "outputs": [
        {
          "output_type": "stream",
          "name": "stderr",
          "text": [
            "/usr/local/lib/python3.12/dist-packages/google/colab/_dataframe_summarizer.py:88: UserWarning: Parsing dates in %d/%m/%Y %H:%M format when dayfirst=False (the default) was specified. Pass `dayfirst=True` or specify a format to silence this warning.\n",
            "  cast_date_col = pd.to_datetime(column, errors=\"coerce\")\n"
          ]
        },
        {
          "output_type": "execute_result",
          "data": {
            "text/plain": [
              "                                            reviewId           userName  \\\n",
              "0  gp:AOqpTOGUTeil4SLYunpirm1v3lIlZzo1S6EhUnrnFyj...        Chimmie Eze   \n",
              "1  gp:AOqpTOFGsFs0Suaau4Czatqr_C9iBhNEdi5A6-EMuaK...               Leon   \n",
              "2  gp:AOqpTOEdR5P7pBkZWUFTagtfuD-xql0oPitu6sThkL8...     Ashlyn Mattila   \n",
              "3  gp:AOqpTOFge6fYHLoibIxZYZ3fRS2gRVVEC6mBA9QkmJa...  Steve The Pesilat   \n",
              "4  gp:AOqpTOGspKknyLniVX8YbL03EOsMIDXxs0mcAY5uswI...    Myriam Le Brock   \n",
              "\n",
              "                                           userImage  \\\n",
              "0  https://play-lh.googleusercontent.com/-V5SGPGt...   \n",
              "1  https://play-lh.googleusercontent.com/a-/AOh14...   \n",
              "2  https://play-lh.googleusercontent.com/a-/AOh14...   \n",
              "3  https://play-lh.googleusercontent.com/a-/AOh14...   \n",
              "4  https://play-lh.googleusercontent.com/-4ENnKxu...   \n",
              "\n",
              "                                             content  score  thumbsUpCount  \\\n",
              "0           Great app, helps me to plan my day ahead      5              0   \n",
              "1  This app is amazing, changed my life. I'm doin...      5              1   \n",
              "2  I like this app. It is the most simple and str...      5              0   \n",
              "3  Truly amazing. One of the apps that I kept ins...      5              0   \n",
              "4         Very useful app. Thanks to the developers!      5              0   \n",
              "\n",
              "  reviewCreatedVersion                at  \\\n",
              "0              5.6.0.7  27/10/2020 16:47   \n",
              "1              5.6.0.7  27/10/2020 15:16   \n",
              "2              5.6.0.7   27/10/2020 9:10   \n",
              "3                  NaN   22/10/2020 5:05   \n",
              "4              5.6.0.6   22/10/2020 4:28   \n",
              "\n",
              "                                        replyContent         repliedAt  \\\n",
              "0                                                NaN               NaN   \n",
              "1                                                NaN               NaN   \n",
              "2  Glad to hear that you're enjoying the features...  27/10/2020 15:02   \n",
              "3                                                NaN               NaN   \n",
              "4                                                NaN               NaN   \n",
              "\n",
              "  sortOrder      appId  \n",
              "0    newest  com.anydo  \n",
              "1    newest  com.anydo  \n",
              "2    newest  com.anydo  \n",
              "3    newest  com.anydo  \n",
              "4    newest  com.anydo  "
            ],
            "text/html": [
              "\n",
              "  <div id=\"df-e8c43917-492c-4de9-8a44-05edf479b4d2\" class=\"colab-df-container\">\n",
              "    <div>\n",
              "<style scoped>\n",
              "    .dataframe tbody tr th:only-of-type {\n",
              "        vertical-align: middle;\n",
              "    }\n",
              "\n",
              "    .dataframe tbody tr th {\n",
              "        vertical-align: top;\n",
              "    }\n",
              "\n",
              "    .dataframe thead th {\n",
              "        text-align: right;\n",
              "    }\n",
              "</style>\n",
              "<table border=\"1\" class=\"dataframe\">\n",
              "  <thead>\n",
              "    <tr style=\"text-align: right;\">\n",
              "      <th></th>\n",
              "      <th>reviewId</th>\n",
              "      <th>userName</th>\n",
              "      <th>userImage</th>\n",
              "      <th>content</th>\n",
              "      <th>score</th>\n",
              "      <th>thumbsUpCount</th>\n",
              "      <th>reviewCreatedVersion</th>\n",
              "      <th>at</th>\n",
              "      <th>replyContent</th>\n",
              "      <th>repliedAt</th>\n",
              "      <th>sortOrder</th>\n",
              "      <th>appId</th>\n",
              "    </tr>\n",
              "  </thead>\n",
              "  <tbody>\n",
              "    <tr>\n",
              "      <th>0</th>\n",
              "      <td>gp:AOqpTOGUTeil4SLYunpirm1v3lIlZzo1S6EhUnrnFyj...</td>\n",
              "      <td>Chimmie Eze</td>\n",
              "      <td>https://play-lh.googleusercontent.com/-V5SGPGt...</td>\n",
              "      <td>Great app, helps me to plan my day ahead</td>\n",
              "      <td>5</td>\n",
              "      <td>0</td>\n",
              "      <td>5.6.0.7</td>\n",
              "      <td>27/10/2020 16:47</td>\n",
              "      <td>NaN</td>\n",
              "      <td>NaN</td>\n",
              "      <td>newest</td>\n",
              "      <td>com.anydo</td>\n",
              "    </tr>\n",
              "    <tr>\n",
              "      <th>1</th>\n",
              "      <td>gp:AOqpTOFGsFs0Suaau4Czatqr_C9iBhNEdi5A6-EMuaK...</td>\n",
              "      <td>Leon</td>\n",
              "      <td>https://play-lh.googleusercontent.com/a-/AOh14...</td>\n",
              "      <td>This app is amazing, changed my life. I'm doin...</td>\n",
              "      <td>5</td>\n",
              "      <td>1</td>\n",
              "      <td>5.6.0.7</td>\n",
              "      <td>27/10/2020 15:16</td>\n",
              "      <td>NaN</td>\n",
              "      <td>NaN</td>\n",
              "      <td>newest</td>\n",
              "      <td>com.anydo</td>\n",
              "    </tr>\n",
              "    <tr>\n",
              "      <th>2</th>\n",
              "      <td>gp:AOqpTOEdR5P7pBkZWUFTagtfuD-xql0oPitu6sThkL8...</td>\n",
              "      <td>Ashlyn Mattila</td>\n",
              "      <td>https://play-lh.googleusercontent.com/a-/AOh14...</td>\n",
              "      <td>I like this app. It is the most simple and str...</td>\n",
              "      <td>5</td>\n",
              "      <td>0</td>\n",
              "      <td>5.6.0.7</td>\n",
              "      <td>27/10/2020 9:10</td>\n",
              "      <td>Glad to hear that you're enjoying the features...</td>\n",
              "      <td>27/10/2020 15:02</td>\n",
              "      <td>newest</td>\n",
              "      <td>com.anydo</td>\n",
              "    </tr>\n",
              "    <tr>\n",
              "      <th>3</th>\n",
              "      <td>gp:AOqpTOFge6fYHLoibIxZYZ3fRS2gRVVEC6mBA9QkmJa...</td>\n",
              "      <td>Steve The Pesilat</td>\n",
              "      <td>https://play-lh.googleusercontent.com/a-/AOh14...</td>\n",
              "      <td>Truly amazing. One of the apps that I kept ins...</td>\n",
              "      <td>5</td>\n",
              "      <td>0</td>\n",
              "      <td>NaN</td>\n",
              "      <td>22/10/2020 5:05</td>\n",
              "      <td>NaN</td>\n",
              "      <td>NaN</td>\n",
              "      <td>newest</td>\n",
              "      <td>com.anydo</td>\n",
              "    </tr>\n",
              "    <tr>\n",
              "      <th>4</th>\n",
              "      <td>gp:AOqpTOGspKknyLniVX8YbL03EOsMIDXxs0mcAY5uswI...</td>\n",
              "      <td>Myriam Le Brock</td>\n",
              "      <td>https://play-lh.googleusercontent.com/-4ENnKxu...</td>\n",
              "      <td>Very useful app. Thanks to the developers!</td>\n",
              "      <td>5</td>\n",
              "      <td>0</td>\n",
              "      <td>5.6.0.6</td>\n",
              "      <td>22/10/2020 4:28</td>\n",
              "      <td>NaN</td>\n",
              "      <td>NaN</td>\n",
              "      <td>newest</td>\n",
              "      <td>com.anydo</td>\n",
              "    </tr>\n",
              "  </tbody>\n",
              "</table>\n",
              "</div>\n",
              "    <div class=\"colab-df-buttons\">\n",
              "\n",
              "  <div class=\"colab-df-container\">\n",
              "    <button class=\"colab-df-convert\" onclick=\"convertToInteractive('df-e8c43917-492c-4de9-8a44-05edf479b4d2')\"\n",
              "            title=\"Convert this dataframe to an interactive table.\"\n",
              "            style=\"display:none;\">\n",
              "\n",
              "  <svg xmlns=\"http://www.w3.org/2000/svg\" height=\"24px\" viewBox=\"0 -960 960 960\">\n",
              "    <path d=\"M120-120v-720h720v720H120Zm60-500h600v-160H180v160Zm220 220h160v-160H400v160Zm0 220h160v-160H400v160ZM180-400h160v-160H180v160Zm440 0h160v-160H620v160ZM180-180h160v-160H180v160Zm440 0h160v-160H620v160Z\"/>\n",
              "  </svg>\n",
              "    </button>\n",
              "\n",
              "  <style>\n",
              "    .colab-df-container {\n",
              "      display:flex;\n",
              "      gap: 12px;\n",
              "    }\n",
              "\n",
              "    .colab-df-convert {\n",
              "      background-color: #E8F0FE;\n",
              "      border: none;\n",
              "      border-radius: 50%;\n",
              "      cursor: pointer;\n",
              "      display: none;\n",
              "      fill: #1967D2;\n",
              "      height: 32px;\n",
              "      padding: 0 0 0 0;\n",
              "      width: 32px;\n",
              "    }\n",
              "\n",
              "    .colab-df-convert:hover {\n",
              "      background-color: #E2EBFA;\n",
              "      box-shadow: 0px 1px 2px rgba(60, 64, 67, 0.3), 0px 1px 3px 1px rgba(60, 64, 67, 0.15);\n",
              "      fill: #174EA6;\n",
              "    }\n",
              "\n",
              "    .colab-df-buttons div {\n",
              "      margin-bottom: 4px;\n",
              "    }\n",
              "\n",
              "    [theme=dark] .colab-df-convert {\n",
              "      background-color: #3B4455;\n",
              "      fill: #D2E3FC;\n",
              "    }\n",
              "\n",
              "    [theme=dark] .colab-df-convert:hover {\n",
              "      background-color: #434B5C;\n",
              "      box-shadow: 0px 1px 3px 1px rgba(0, 0, 0, 0.15);\n",
              "      filter: drop-shadow(0px 1px 2px rgba(0, 0, 0, 0.3));\n",
              "      fill: #FFFFFF;\n",
              "    }\n",
              "  </style>\n",
              "\n",
              "    <script>\n",
              "      const buttonEl =\n",
              "        document.querySelector('#df-e8c43917-492c-4de9-8a44-05edf479b4d2 button.colab-df-convert');\n",
              "      buttonEl.style.display =\n",
              "        google.colab.kernel.accessAllowed ? 'block' : 'none';\n",
              "\n",
              "      async function convertToInteractive(key) {\n",
              "        const element = document.querySelector('#df-e8c43917-492c-4de9-8a44-05edf479b4d2');\n",
              "        const dataTable =\n",
              "          await google.colab.kernel.invokeFunction('convertToInteractive',\n",
              "                                                    [key], {});\n",
              "        if (!dataTable) return;\n",
              "\n",
              "        const docLinkHtml = 'Like what you see? Visit the ' +\n",
              "          '<a target=\"_blank\" href=https://colab.research.google.com/notebooks/data_table.ipynb>data table notebook</a>'\n",
              "          + ' to learn more about interactive tables.';\n",
              "        element.innerHTML = '';\n",
              "        dataTable['output_type'] = 'display_data';\n",
              "        await google.colab.output.renderOutput(dataTable, element);\n",
              "        const docLink = document.createElement('div');\n",
              "        docLink.innerHTML = docLinkHtml;\n",
              "        element.appendChild(docLink);\n",
              "      }\n",
              "    </script>\n",
              "  </div>\n",
              "\n",
              "\n",
              "    <div id=\"df-a3721b94-2af7-4d9f-8e34-d548472792b0\">\n",
              "      <button class=\"colab-df-quickchart\" onclick=\"quickchart('df-a3721b94-2af7-4d9f-8e34-d548472792b0')\"\n",
              "                title=\"Suggest charts\"\n",
              "                style=\"display:none;\">\n",
              "\n",
              "<svg xmlns=\"http://www.w3.org/2000/svg\" height=\"24px\"viewBox=\"0 0 24 24\"\n",
              "     width=\"24px\">\n",
              "    <g>\n",
              "        <path d=\"M19 3H5c-1.1 0-2 .9-2 2v14c0 1.1.9 2 2 2h14c1.1 0 2-.9 2-2V5c0-1.1-.9-2-2-2zM9 17H7v-7h2v7zm4 0h-2V7h2v10zm4 0h-2v-4h2v4z\"/>\n",
              "    </g>\n",
              "</svg>\n",
              "      </button>\n",
              "\n",
              "<style>\n",
              "  .colab-df-quickchart {\n",
              "      --bg-color: #E8F0FE;\n",
              "      --fill-color: #1967D2;\n",
              "      --hover-bg-color: #E2EBFA;\n",
              "      --hover-fill-color: #174EA6;\n",
              "      --disabled-fill-color: #AAA;\n",
              "      --disabled-bg-color: #DDD;\n",
              "  }\n",
              "\n",
              "  [theme=dark] .colab-df-quickchart {\n",
              "      --bg-color: #3B4455;\n",
              "      --fill-color: #D2E3FC;\n",
              "      --hover-bg-color: #434B5C;\n",
              "      --hover-fill-color: #FFFFFF;\n",
              "      --disabled-bg-color: #3B4455;\n",
              "      --disabled-fill-color: #666;\n",
              "  }\n",
              "\n",
              "  .colab-df-quickchart {\n",
              "    background-color: var(--bg-color);\n",
              "    border: none;\n",
              "    border-radius: 50%;\n",
              "    cursor: pointer;\n",
              "    display: none;\n",
              "    fill: var(--fill-color);\n",
              "    height: 32px;\n",
              "    padding: 0;\n",
              "    width: 32px;\n",
              "  }\n",
              "\n",
              "  .colab-df-quickchart:hover {\n",
              "    background-color: var(--hover-bg-color);\n",
              "    box-shadow: 0 1px 2px rgba(60, 64, 67, 0.3), 0 1px 3px 1px rgba(60, 64, 67, 0.15);\n",
              "    fill: var(--button-hover-fill-color);\n",
              "  }\n",
              "\n",
              "  .colab-df-quickchart-complete:disabled,\n",
              "  .colab-df-quickchart-complete:disabled:hover {\n",
              "    background-color: var(--disabled-bg-color);\n",
              "    fill: var(--disabled-fill-color);\n",
              "    box-shadow: none;\n",
              "  }\n",
              "\n",
              "  .colab-df-spinner {\n",
              "    border: 2px solid var(--fill-color);\n",
              "    border-color: transparent;\n",
              "    border-bottom-color: var(--fill-color);\n",
              "    animation:\n",
              "      spin 1s steps(1) infinite;\n",
              "  }\n",
              "\n",
              "  @keyframes spin {\n",
              "    0% {\n",
              "      border-color: transparent;\n",
              "      border-bottom-color: var(--fill-color);\n",
              "      border-left-color: var(--fill-color);\n",
              "    }\n",
              "    20% {\n",
              "      border-color: transparent;\n",
              "      border-left-color: var(--fill-color);\n",
              "      border-top-color: var(--fill-color);\n",
              "    }\n",
              "    30% {\n",
              "      border-color: transparent;\n",
              "      border-left-color: var(--fill-color);\n",
              "      border-top-color: var(--fill-color);\n",
              "      border-right-color: var(--fill-color);\n",
              "    }\n",
              "    40% {\n",
              "      border-color: transparent;\n",
              "      border-right-color: var(--fill-color);\n",
              "      border-top-color: var(--fill-color);\n",
              "    }\n",
              "    60% {\n",
              "      border-color: transparent;\n",
              "      border-right-color: var(--fill-color);\n",
              "    }\n",
              "    80% {\n",
              "      border-color: transparent;\n",
              "      border-right-color: var(--fill-color);\n",
              "      border-bottom-color: var(--fill-color);\n",
              "    }\n",
              "    90% {\n",
              "      border-color: transparent;\n",
              "      border-bottom-color: var(--fill-color);\n",
              "    }\n",
              "  }\n",
              "</style>\n",
              "\n",
              "      <script>\n",
              "        async function quickchart(key) {\n",
              "          const quickchartButtonEl =\n",
              "            document.querySelector('#' + key + ' button');\n",
              "          quickchartButtonEl.disabled = true;  // To prevent multiple clicks.\n",
              "          quickchartButtonEl.classList.add('colab-df-spinner');\n",
              "          try {\n",
              "            const charts = await google.colab.kernel.invokeFunction(\n",
              "                'suggestCharts', [key], {});\n",
              "          } catch (error) {\n",
              "            console.error('Error during call to suggestCharts:', error);\n",
              "          }\n",
              "          quickchartButtonEl.classList.remove('colab-df-spinner');\n",
              "          quickchartButtonEl.classList.add('colab-df-quickchart-complete');\n",
              "        }\n",
              "        (() => {\n",
              "          let quickchartButtonEl =\n",
              "            document.querySelector('#df-a3721b94-2af7-4d9f-8e34-d548472792b0 button');\n",
              "          quickchartButtonEl.style.display =\n",
              "            google.colab.kernel.accessAllowed ? 'block' : 'none';\n",
              "        })();\n",
              "      </script>\n",
              "    </div>\n",
              "\n",
              "    </div>\n",
              "  </div>\n"
            ],
            "application/vnd.google.colaboratory.intrinsic+json": {
              "type": "dataframe",
              "variable_name": "df",
              "summary": "{\n  \"name\": \"df\",\n  \"rows\": 19,\n  \"fields\": [\n    {\n      \"column\": \"reviewId\",\n      \"properties\": {\n        \"dtype\": \"string\",\n        \"num_unique_values\": 19,\n        \"samples\": [\n          \"gp:AOqpTOGUTeil4SLYunpirm1v3lIlZzo1S6EhUnrnFyjnCqKyC7zd-4oZ6PaXVFlM6YYoFjxFbPvRTQ-2IpTdIA\",\n          \"gp:AOqpTOEuFXljJX_HpR5TwOG0rZif0at---lYZmKAxdwlEpNxNyzdEf4XxCturNb8UlMkU4LOyCncCG9kS5nbKg\",\n          \"gp:AOqpTOFUeHKYRyVIt3fsobAEN0N8nPXBhAVShMdNrnXeDZ3y6OmQG7NjmLHx2U1K0AG_y7FevIZTw6eRLvbKww\"\n        ],\n        \"semantic_type\": \"\",\n        \"description\": \"\"\n      }\n    },\n    {\n      \"column\": \"userName\",\n      \"properties\": {\n        \"dtype\": \"string\",\n        \"num_unique_values\": 19,\n        \"samples\": [\n          \"Chimmie Eze\",\n          \"coop zoop\",\n          \"Pheobe Askie\"\n        ],\n        \"semantic_type\": \"\",\n        \"description\": \"\"\n      }\n    },\n    {\n      \"column\": \"userImage\",\n      \"properties\": {\n        \"dtype\": \"string\",\n        \"num_unique_values\": 19,\n        \"samples\": [\n          \"https://play-lh.googleusercontent.com/-V5SGPGtytUU/AAAAAAAAAAI/AAAAAAAAAAA/AMZuuckPQKm-HQSVwIRdG0wcPT4aSFxmOw/photo.jpg\",\n          \"https://play-lh.googleusercontent.com/a-/AOh14GisRJ49W8VeJGjt6_XhKdZqoo01Bw3J_fYyu4Gsuw\",\n          \"https://play-lh.googleusercontent.com/a-/AOh14GjzWfzRLsTn3c8nCMMJNZVK-ratWclrQqMk-MmwkQ\"\n        ],\n        \"semantic_type\": \"\",\n        \"description\": \"\"\n      }\n    },\n    {\n      \"column\": \"content\",\n      \"properties\": {\n        \"dtype\": \"string\",\n        \"num_unique_values\": 19,\n        \"samples\": [\n          \"Great app, helps me to plan my day ahead\",\n          \"This still works pretty well, but I'm not a fan of the updated widget not listing tasks chronologically.\",\n          \"Lost all my lists when I was forced to give email address. Was good prior to having to start all over.\"\n        ],\n        \"semantic_type\": \"\",\n        \"description\": \"\"\n      }\n    },\n    {\n      \"column\": \"score\",\n      \"properties\": {\n        \"dtype\": \"number\",\n        \"std\": 1,\n        \"min\": 1,\n        \"max\": 5,\n        \"num_unique_values\": 4,\n        \"samples\": [\n          3,\n          1,\n          5\n        ],\n        \"semantic_type\": \"\",\n        \"description\": \"\"\n      }\n    },\n    {\n      \"column\": \"thumbsUpCount\",\n      \"properties\": {\n        \"dtype\": \"number\",\n        \"std\": 7,\n        \"min\": 0,\n        \"max\": 33,\n        \"num_unique_values\": 5,\n        \"samples\": [\n          1,\n          7,\n          33\n        ],\n        \"semantic_type\": \"\",\n        \"description\": \"\"\n      }\n    },\n    {\n      \"column\": \"reviewCreatedVersion\",\n      \"properties\": {\n        \"dtype\": \"category\",\n        \"num_unique_values\": 2,\n        \"samples\": [\n          \"5.6.0.6\",\n          \"5.6.0.7\"\n        ],\n        \"semantic_type\": \"\",\n        \"description\": \"\"\n      }\n    },\n    {\n      \"column\": \"at\",\n      \"properties\": {\n        \"dtype\": \"object\",\n        \"num_unique_values\": 19,\n        \"samples\": [\n          \"27/10/2020 16:47\",\n          \"27/10/2020 9:13\"\n        ],\n        \"semantic_type\": \"\",\n        \"description\": \"\"\n      }\n    },\n    {\n      \"column\": \"replyContent\",\n      \"properties\": {\n        \"dtype\": \"string\",\n        \"num_unique_values\": 11,\n        \"samples\": [\n          \"Please note that you can set as many recurring notifications and repetitions for your events, for Free, directly from the Event Menu https://support.any.do/the-event-menu/. For any questions or assistance, please contact us at https://www.any.do/contact_form, and our team will be happy to assist.\",\n          \"Glad to hear that you're enjoying the features and that Any.do is helping you stay organized! We hope you will share the app with your friends and family so they can try it out too ;)\"\n        ],\n        \"semantic_type\": \"\",\n        \"description\": \"\"\n      }\n    },\n    {\n      \"column\": \"repliedAt\",\n      \"properties\": {\n        \"dtype\": \"date\",\n        \"min\": \"2020-07-19 13:29:00\",\n        \"max\": \"2020-10-27 15:02:00\",\n        \"num_unique_values\": 10,\n        \"samples\": [\n          \"19/10/2020 13:56\",\n          \"27/10/2020 14:49\"\n        ],\n        \"semantic_type\": \"\",\n        \"description\": \"\"\n      }\n    },\n    {\n      \"column\": \"sortOrder\",\n      \"properties\": {\n        \"dtype\": \"category\",\n        \"num_unique_values\": 1,\n        \"samples\": [\n          \"newest\"\n        ],\n        \"semantic_type\": \"\",\n        \"description\": \"\"\n      }\n    },\n    {\n      \"column\": \"appId\",\n      \"properties\": {\n        \"dtype\": \"category\",\n        \"num_unique_values\": 1,\n        \"samples\": [\n          \"com.anydo\"\n        ],\n        \"semantic_type\": \"\",\n        \"description\": \"\"\n      }\n    }\n  ]\n}"
            }
          },
          "metadata": {},
          "execution_count": 18
        }
      ]
    },
    {
      "cell_type": "code",
      "source": [
        "# Step 2: Prep the API connection with System Prompt\n",
        "chat_classifier = ctl.ChatOpenAI(\n",
        "    model=\"gpt-3.5-turbo\",\n",
        "    system_prompt=\"You are a sentiment analysis expert. Classify reviews as 'positive', 'negative', or 'neutral'. Respond with only one word.\"\n",
        ")"
      ],
      "metadata": {
        "id": "s4YRSfADsNXb"
      },
      "id": "s4YRSfADsNXb",
      "execution_count": null,
      "outputs": []
    },
    {
      "cell_type": "code",
      "source": [
        "# Step 3: Conduct classification\n",
        "\n",
        "# Create a list to store classifications\n",
        "classifications = []\n",
        "\n",
        "# Start the loop (with progress bar)\n",
        "for idx, row in tqdm.tqdm(df.iterrows(), total=len(df), desc=\"Processing\"):\n",
        "    try:\n",
        "        # Get the review content\n",
        "        review_content = str(row['content'])\n",
        "\n",
        "        # Skip if content is NaN or empty\n",
        "        if pd.isna(review_content) or review_content.strip() == '':\n",
        "            classifications.append('unknown')\n",
        "            continue\n",
        "\n",
        "        # Create prompt for classification\n",
        "        prompt = f\"Classify the sentiment of this app review: '{review_content}'\"\n",
        "\n",
        "        # Get LLM classification\n",
        "        response = chat_classifier.chat(\n",
        "            prompt,\n",
        "            kwargs={\n",
        "                \"temperature\": 0.1,  # Low temperature for consistent results\n",
        "                \"max_tokens\": 5      # We only need one word so this should be enough!\n",
        "            }\n",
        "        )\n",
        "\n",
        "        # Extract and clean the response\n",
        "        classification = response.content.strip().lower()\n",
        "\n",
        "        # Ensure classification is one of our expected values\n",
        "        if classification not in ['positive', 'negative', 'neutral']:\n",
        "            # Try to map common variations\n",
        "            if any(word in classification for word in ['good', 'great', 'excellent', 'love', 'amazing']):\n",
        "                classification = 'positive'\n",
        "            elif any(word in classification for word in ['bad', 'terrible', 'hate', 'awful', 'worst']):\n",
        "                classification = 'negative'\n",
        "            else:\n",
        "                classification = 'neutral'\n",
        "\n",
        "        classifications.append(classification)\n",
        "\n",
        "        # Small delay to respect API rate limits (just in case)\n",
        "        time.sleep(0.1)\n",
        "\n",
        "    except Exception as e:\n",
        "        print(f\"Error processing row {idx}: {e}\")\n",
        "        classifications.append('error')\n",
        "\n",
        "print(\"Classification complete!\")"
      ],
      "metadata": {
        "id": "BCLLXfBSsgb_",
        "colab": {
          "base_uri": "https://localhost:8080/",
          "height": 1000
        },
        "outputId": "486d9b6f-c7ba-4d93-dbf5-e10709de631a"
      },
      "id": "BCLLXfBSsgb_",
      "execution_count": null,
      "outputs": [
        {
          "output_type": "stream",
          "name": "stderr",
          "text": [
            "\rProcessing:   0%|          | 0/19 [00:00<?, ?it/s]"
          ]
        },
        {
          "output_type": "display_data",
          "data": {
            "text/plain": [
              "<IPython.core.display.HTML object>"
            ],
            "text/html": [
              "<div class='chatlas-markdown'>"
            ]
          },
          "metadata": {}
        },
        {
          "output_type": "display_data",
          "data": {
            "text/plain": [
              "<IPython.core.display.Markdown object>"
            ],
            "text/markdown": "<br>\n\nPositive"
          },
          "metadata": {}
        },
        {
          "output_type": "stream",
          "name": "stderr",
          "text": [
            "\rProcessing:   5%|▌         | 1/19 [00:00<00:16,  1.12it/s]"
          ]
        },
        {
          "output_type": "display_data",
          "data": {
            "text/plain": [
              "<IPython.core.display.HTML object>"
            ],
            "text/html": [
              "<div class='chatlas-markdown'>"
            ]
          },
          "metadata": {}
        },
        {
          "output_type": "display_data",
          "data": {
            "text/plain": [
              "<IPython.core.display.Markdown object>"
            ],
            "text/markdown": "<br>\n\nMixed"
          },
          "metadata": {}
        },
        {
          "output_type": "stream",
          "name": "stderr",
          "text": [
            "\rProcessing:  11%|█         | 2/19 [00:01<00:10,  1.55it/s]"
          ]
        },
        {
          "output_type": "display_data",
          "data": {
            "text/plain": [
              "<IPython.core.display.HTML object>"
            ],
            "text/html": [
              "<div class='chatlas-markdown'>"
            ]
          },
          "metadata": {}
        },
        {
          "output_type": "display_data",
          "data": {
            "text/plain": [
              "<IPython.core.display.Markdown object>"
            ],
            "text/markdown": "<br>\n\nPositive"
          },
          "metadata": {}
        },
        {
          "output_type": "stream",
          "name": "stderr",
          "text": [
            "\rProcessing:  16%|█▌        | 3/19 [00:01<00:08,  1.80it/s]"
          ]
        },
        {
          "output_type": "display_data",
          "data": {
            "text/plain": [
              "<IPython.core.display.HTML object>"
            ],
            "text/html": [
              "<div class='chatlas-markdown'>"
            ]
          },
          "metadata": {}
        },
        {
          "output_type": "display_data",
          "data": {
            "text/plain": [
              "<IPython.core.display.Markdown object>"
            ],
            "text/markdown": "<br>\n\nPositive"
          },
          "metadata": {}
        },
        {
          "output_type": "stream",
          "name": "stderr",
          "text": [
            "\rProcessing:  21%|██        | 4/19 [00:02<00:07,  2.01it/s]"
          ]
        },
        {
          "output_type": "display_data",
          "data": {
            "text/plain": [
              "<IPython.core.display.HTML object>"
            ],
            "text/html": [
              "<div class='chatlas-markdown'>"
            ]
          },
          "metadata": {}
        },
        {
          "output_type": "display_data",
          "data": {
            "text/plain": [
              "<IPython.core.display.Markdown object>"
            ],
            "text/markdown": "<br>\n\nPositive"
          },
          "metadata": {}
        },
        {
          "output_type": "stream",
          "name": "stderr",
          "text": [
            "\rProcessing:  26%|██▋       | 5/19 [00:02<00:08,  1.72it/s]"
          ]
        },
        {
          "output_type": "display_data",
          "data": {
            "text/plain": [
              "<IPython.core.display.HTML object>"
            ],
            "text/html": [
              "<div class='chatlas-markdown'>"
            ]
          },
          "metadata": {}
        },
        {
          "output_type": "display_data",
          "data": {
            "text/plain": [
              "<IPython.core.display.Markdown object>"
            ],
            "text/markdown": "<br>\n\nNegative"
          },
          "metadata": {}
        },
        {
          "output_type": "stream",
          "name": "stderr",
          "text": [
            "\rProcessing:  32%|███▏      | 6/19 [00:03<00:06,  1.94it/s]"
          ]
        },
        {
          "output_type": "display_data",
          "data": {
            "text/plain": [
              "<IPython.core.display.HTML object>"
            ],
            "text/html": [
              "<div class='chatlas-markdown'>"
            ]
          },
          "metadata": {}
        },
        {
          "output_type": "display_data",
          "data": {
            "text/plain": [
              "<IPython.core.display.Markdown object>"
            ],
            "text/markdown": "<br>\n\nNegative"
          },
          "metadata": {}
        },
        {
          "output_type": "stream",
          "name": "stderr",
          "text": [
            "\rProcessing:  37%|███▋      | 7/19 [00:03<00:05,  2.10it/s]"
          ]
        },
        {
          "output_type": "display_data",
          "data": {
            "text/plain": [
              "<IPython.core.display.HTML object>"
            ],
            "text/html": [
              "<div class='chatlas-markdown'>"
            ]
          },
          "metadata": {}
        },
        {
          "output_type": "display_data",
          "data": {
            "text/plain": [
              "<IPython.core.display.Markdown object>"
            ],
            "text/markdown": "<br>\n\nNeutral"
          },
          "metadata": {}
        },
        {
          "output_type": "stream",
          "name": "stderr",
          "text": [
            "\rProcessing:  42%|████▏     | 8/19 [00:04<00:05,  2.17it/s]"
          ]
        },
        {
          "output_type": "display_data",
          "data": {
            "text/plain": [
              "<IPython.core.display.HTML object>"
            ],
            "text/html": [
              "<div class='chatlas-markdown'>"
            ]
          },
          "metadata": {}
        },
        {
          "output_type": "display_data",
          "data": {
            "text/plain": [
              "<IPython.core.display.Markdown object>"
            ],
            "text/markdown": "<br>\n\nNegative"
          },
          "metadata": {}
        },
        {
          "output_type": "stream",
          "name": "stderr",
          "text": [
            "\rProcessing:  47%|████▋     | 9/19 [00:05<00:06,  1.55it/s]"
          ]
        },
        {
          "output_type": "display_data",
          "data": {
            "text/plain": [
              "<IPython.core.display.HTML object>"
            ],
            "text/html": [
              "<div class='chatlas-markdown'>"
            ]
          },
          "metadata": {}
        },
        {
          "output_type": "display_data",
          "data": {
            "text/plain": [
              "<IPython.core.display.Markdown object>"
            ],
            "text/markdown": "<br>\n\nNegative"
          },
          "metadata": {}
        },
        {
          "output_type": "stream",
          "name": "stderr",
          "text": [
            "\rProcessing:  53%|█████▎    | 10/19 [00:05<00:05,  1.68it/s]"
          ]
        },
        {
          "output_type": "display_data",
          "data": {
            "text/plain": [
              "<IPython.core.display.HTML object>"
            ],
            "text/html": [
              "<div class='chatlas-markdown'>"
            ]
          },
          "metadata": {}
        },
        {
          "output_type": "display_data",
          "data": {
            "text/plain": [
              "<IPython.core.display.Markdown object>"
            ],
            "text/markdown": "<br>\n\nNegative"
          },
          "metadata": {}
        },
        {
          "output_type": "stream",
          "name": "stderr",
          "text": [
            "\rProcessing:  58%|█████▊    | 11/19 [00:06<00:04,  1.72it/s]"
          ]
        },
        {
          "output_type": "display_data",
          "data": {
            "text/plain": [
              "<IPython.core.display.HTML object>"
            ],
            "text/html": [
              "<div class='chatlas-markdown'>"
            ]
          },
          "metadata": {}
        },
        {
          "output_type": "display_data",
          "data": {
            "text/plain": [
              "<IPython.core.display.Markdown object>"
            ],
            "text/markdown": "<br>\n\nNegative"
          },
          "metadata": {}
        },
        {
          "output_type": "stream",
          "name": "stderr",
          "text": [
            "\rProcessing:  63%|██████▎   | 12/19 [00:06<00:03,  1.75it/s]"
          ]
        },
        {
          "output_type": "display_data",
          "data": {
            "text/plain": [
              "<IPython.core.display.HTML object>"
            ],
            "text/html": [
              "<div class='chatlas-markdown'>"
            ]
          },
          "metadata": {}
        },
        {
          "output_type": "display_data",
          "data": {
            "text/plain": [
              "<IPython.core.display.Markdown object>"
            ],
            "text/markdown": "<br>\n\nNegative"
          },
          "metadata": {}
        },
        {
          "output_type": "stream",
          "name": "stderr",
          "text": [
            "\rProcessing:  68%|██████▊   | 13/19 [00:07<00:03,  1.64it/s]"
          ]
        },
        {
          "output_type": "display_data",
          "data": {
            "text/plain": [
              "<IPython.core.display.HTML object>"
            ],
            "text/html": [
              "<div class='chatlas-markdown'>"
            ]
          },
          "metadata": {}
        },
        {
          "output_type": "display_data",
          "data": {
            "text/plain": [
              "<IPython.core.display.Markdown object>"
            ],
            "text/markdown": "<br>\n\nNegative"
          },
          "metadata": {}
        },
        {
          "output_type": "stream",
          "name": "stderr",
          "text": [
            "\rProcessing:  74%|███████▎  | 14/19 [00:08<00:03,  1.44it/s]"
          ]
        },
        {
          "output_type": "display_data",
          "data": {
            "text/plain": [
              "<IPython.core.display.HTML object>"
            ],
            "text/html": [
              "<div class='chatlas-markdown'>"
            ]
          },
          "metadata": {}
        },
        {
          "output_type": "display_data",
          "data": {
            "text/plain": [
              "<IPython.core.display.Markdown object>"
            ],
            "text/markdown": "<br>\n\nNegative"
          },
          "metadata": {}
        },
        {
          "output_type": "stream",
          "name": "stderr",
          "text": [
            "\rProcessing:  79%|███████▉  | 15/19 [00:08<00:02,  1.54it/s]"
          ]
        },
        {
          "output_type": "display_data",
          "data": {
            "text/plain": [
              "<IPython.core.display.HTML object>"
            ],
            "text/html": [
              "<div class='chatlas-markdown'>"
            ]
          },
          "metadata": {}
        },
        {
          "output_type": "display_data",
          "data": {
            "text/plain": [
              "<IPython.core.display.Markdown object>"
            ],
            "text/markdown": "<br>\n\nNegative"
          },
          "metadata": {}
        },
        {
          "output_type": "stream",
          "name": "stderr",
          "text": [
            "\rProcessing:  84%|████████▍ | 16/19 [00:10<00:03,  1.06s/it]"
          ]
        },
        {
          "output_type": "display_data",
          "data": {
            "text/plain": [
              "<IPython.core.display.HTML object>"
            ],
            "text/html": [
              "<div class='chatlas-markdown'>"
            ]
          },
          "metadata": {}
        },
        {
          "output_type": "display_data",
          "data": {
            "text/plain": [
              "<IPython.core.display.Markdown object>"
            ],
            "text/markdown": "<br>\n\nNegative"
          },
          "metadata": {}
        },
        {
          "output_type": "stream",
          "name": "stderr",
          "text": [
            "\rProcessing:  89%|████████▉ | 17/19 [00:11<00:01,  1.08it/s]"
          ]
        },
        {
          "output_type": "display_data",
          "data": {
            "text/plain": [
              "<IPython.core.display.HTML object>"
            ],
            "text/html": [
              "<div class='chatlas-markdown'>"
            ]
          },
          "metadata": {}
        },
        {
          "output_type": "display_data",
          "data": {
            "text/plain": [
              "<IPython.core.display.Markdown object>"
            ],
            "text/markdown": "<br>\n\nNegative"
          },
          "metadata": {}
        },
        {
          "output_type": "stream",
          "name": "stderr",
          "text": [
            "\rProcessing:  95%|█████████▍| 18/19 [00:12<00:00,  1.22it/s]"
          ]
        },
        {
          "output_type": "display_data",
          "data": {
            "text/plain": [
              "<IPython.core.display.HTML object>"
            ],
            "text/html": [
              "<div class='chatlas-markdown'>"
            ]
          },
          "metadata": {}
        },
        {
          "output_type": "display_data",
          "data": {
            "text/plain": [
              "<IPython.core.display.Markdown object>"
            ],
            "text/markdown": "<br>\n\nNegative"
          },
          "metadata": {}
        },
        {
          "output_type": "stream",
          "name": "stderr",
          "text": [
            "Processing: 100%|██████████| 19/19 [00:12<00:00,  1.51it/s]"
          ]
        },
        {
          "output_type": "stream",
          "name": "stdout",
          "text": [
            "Classification complete!\n"
          ]
        },
        {
          "output_type": "stream",
          "name": "stderr",
          "text": [
            "\n"
          ]
        }
      ]
    },
    {
      "cell_type": "code",
      "source": [
        "# Step 4: Check the result so far\n",
        "\n",
        "# Add the classifications to the dataframe\n",
        "df['llm_classification'] = classifications\n",
        "\n",
        "# Display results summary\n",
        "print(\"Classification Summary:\")\n",
        "print(df['llm_classification'].value_counts())"
      ],
      "metadata": {
        "id": "_lAGpSZ1ttRQ",
        "colab": {
          "base_uri": "https://localhost:8080/"
        },
        "outputId": "9f783432-e611-4d74-b1a1-da0254efb0f6"
      },
      "id": "_lAGpSZ1ttRQ",
      "execution_count": null,
      "outputs": [
        {
          "output_type": "stream",
          "name": "stdout",
          "text": [
            "Classification Summary:\n",
            "llm_classification\n",
            "negative    13\n",
            "positive     4\n",
            "neutral      2\n",
            "Name: count, dtype: int64\n"
          ]
        }
      ]
    },
    {
      "cell_type": "code",
      "source": [
        "# Step 5: Save results to CSV\n",
        "\n",
        "# Save to new CSV\n",
        "output_file = \"reviews-20_classified.csv\"\n",
        "df.to_csv(output_file, index=False)\n",
        "print(f\"Results saved to: {output_file}\")\n",
        "\n",
        "# Show the final dataframe\n",
        "print(\"\\nFinal DataFrame:\")\n",
        "df.head()"
      ],
      "metadata": {
        "id": "WFeJO8bxt6hj",
        "colab": {
          "base_uri": "https://localhost:8080/",
          "height": 643
        },
        "outputId": "21426296-6925-4f38-b61d-f77746573676"
      },
      "id": "WFeJO8bxt6hj",
      "execution_count": null,
      "outputs": [
        {
          "output_type": "stream",
          "name": "stdout",
          "text": [
            "Results saved to: reviews-20_classified.csv\n",
            "\n",
            "Final DataFrame:\n"
          ]
        },
        {
          "output_type": "stream",
          "name": "stderr",
          "text": [
            "/usr/local/lib/python3.12/dist-packages/google/colab/_dataframe_summarizer.py:88: UserWarning: Parsing dates in %d/%m/%Y %H:%M format when dayfirst=False (the default) was specified. Pass `dayfirst=True` or specify a format to silence this warning.\n",
            "  cast_date_col = pd.to_datetime(column, errors=\"coerce\")\n"
          ]
        },
        {
          "output_type": "execute_result",
          "data": {
            "text/plain": [
              "                                            reviewId           userName  \\\n",
              "0  gp:AOqpTOGUTeil4SLYunpirm1v3lIlZzo1S6EhUnrnFyj...        Chimmie Eze   \n",
              "1  gp:AOqpTOFGsFs0Suaau4Czatqr_C9iBhNEdi5A6-EMuaK...               Leon   \n",
              "2  gp:AOqpTOEdR5P7pBkZWUFTagtfuD-xql0oPitu6sThkL8...     Ashlyn Mattila   \n",
              "3  gp:AOqpTOFge6fYHLoibIxZYZ3fRS2gRVVEC6mBA9QkmJa...  Steve The Pesilat   \n",
              "4  gp:AOqpTOGspKknyLniVX8YbL03EOsMIDXxs0mcAY5uswI...    Myriam Le Brock   \n",
              "\n",
              "                                           userImage  \\\n",
              "0  https://play-lh.googleusercontent.com/-V5SGPGt...   \n",
              "1  https://play-lh.googleusercontent.com/a-/AOh14...   \n",
              "2  https://play-lh.googleusercontent.com/a-/AOh14...   \n",
              "3  https://play-lh.googleusercontent.com/a-/AOh14...   \n",
              "4  https://play-lh.googleusercontent.com/-4ENnKxu...   \n",
              "\n",
              "                                             content  score  thumbsUpCount  \\\n",
              "0           Great app, helps me to plan my day ahead      5              0   \n",
              "1  This app is amazing, changed my life. I'm doin...      5              1   \n",
              "2  I like this app. It is the most simple and str...      5              0   \n",
              "3  Truly amazing. One of the apps that I kept ins...      5              0   \n",
              "4         Very useful app. Thanks to the developers!      5              0   \n",
              "\n",
              "  reviewCreatedVersion                at  \\\n",
              "0              5.6.0.7  27/10/2020 16:47   \n",
              "1              5.6.0.7  27/10/2020 15:16   \n",
              "2              5.6.0.7   27/10/2020 9:10   \n",
              "3                  NaN   22/10/2020 5:05   \n",
              "4              5.6.0.6   22/10/2020 4:28   \n",
              "\n",
              "                                        replyContent         repliedAt  \\\n",
              "0                                                NaN               NaN   \n",
              "1                                                NaN               NaN   \n",
              "2  Glad to hear that you're enjoying the features...  27/10/2020 15:02   \n",
              "3                                                NaN               NaN   \n",
              "4                                                NaN               NaN   \n",
              "\n",
              "  sortOrder      appId llm_classification  \n",
              "0    newest  com.anydo           positive  \n",
              "1    newest  com.anydo            neutral  \n",
              "2    newest  com.anydo           positive  \n",
              "3    newest  com.anydo           positive  \n",
              "4    newest  com.anydo           positive  "
            ],
            "text/html": [
              "\n",
              "  <div id=\"df-6f5e84a1-9f53-4b10-9b0d-a236235e81a4\" class=\"colab-df-container\">\n",
              "    <div>\n",
              "<style scoped>\n",
              "    .dataframe tbody tr th:only-of-type {\n",
              "        vertical-align: middle;\n",
              "    }\n",
              "\n",
              "    .dataframe tbody tr th {\n",
              "        vertical-align: top;\n",
              "    }\n",
              "\n",
              "    .dataframe thead th {\n",
              "        text-align: right;\n",
              "    }\n",
              "</style>\n",
              "<table border=\"1\" class=\"dataframe\">\n",
              "  <thead>\n",
              "    <tr style=\"text-align: right;\">\n",
              "      <th></th>\n",
              "      <th>reviewId</th>\n",
              "      <th>userName</th>\n",
              "      <th>userImage</th>\n",
              "      <th>content</th>\n",
              "      <th>score</th>\n",
              "      <th>thumbsUpCount</th>\n",
              "      <th>reviewCreatedVersion</th>\n",
              "      <th>at</th>\n",
              "      <th>replyContent</th>\n",
              "      <th>repliedAt</th>\n",
              "      <th>sortOrder</th>\n",
              "      <th>appId</th>\n",
              "      <th>llm_classification</th>\n",
              "    </tr>\n",
              "  </thead>\n",
              "  <tbody>\n",
              "    <tr>\n",
              "      <th>0</th>\n",
              "      <td>gp:AOqpTOGUTeil4SLYunpirm1v3lIlZzo1S6EhUnrnFyj...</td>\n",
              "      <td>Chimmie Eze</td>\n",
              "      <td>https://play-lh.googleusercontent.com/-V5SGPGt...</td>\n",
              "      <td>Great app, helps me to plan my day ahead</td>\n",
              "      <td>5</td>\n",
              "      <td>0</td>\n",
              "      <td>5.6.0.7</td>\n",
              "      <td>27/10/2020 16:47</td>\n",
              "      <td>NaN</td>\n",
              "      <td>NaN</td>\n",
              "      <td>newest</td>\n",
              "      <td>com.anydo</td>\n",
              "      <td>positive</td>\n",
              "    </tr>\n",
              "    <tr>\n",
              "      <th>1</th>\n",
              "      <td>gp:AOqpTOFGsFs0Suaau4Czatqr_C9iBhNEdi5A6-EMuaK...</td>\n",
              "      <td>Leon</td>\n",
              "      <td>https://play-lh.googleusercontent.com/a-/AOh14...</td>\n",
              "      <td>This app is amazing, changed my life. I'm doin...</td>\n",
              "      <td>5</td>\n",
              "      <td>1</td>\n",
              "      <td>5.6.0.7</td>\n",
              "      <td>27/10/2020 15:16</td>\n",
              "      <td>NaN</td>\n",
              "      <td>NaN</td>\n",
              "      <td>newest</td>\n",
              "      <td>com.anydo</td>\n",
              "      <td>neutral</td>\n",
              "    </tr>\n",
              "    <tr>\n",
              "      <th>2</th>\n",
              "      <td>gp:AOqpTOEdR5P7pBkZWUFTagtfuD-xql0oPitu6sThkL8...</td>\n",
              "      <td>Ashlyn Mattila</td>\n",
              "      <td>https://play-lh.googleusercontent.com/a-/AOh14...</td>\n",
              "      <td>I like this app. It is the most simple and str...</td>\n",
              "      <td>5</td>\n",
              "      <td>0</td>\n",
              "      <td>5.6.0.7</td>\n",
              "      <td>27/10/2020 9:10</td>\n",
              "      <td>Glad to hear that you're enjoying the features...</td>\n",
              "      <td>27/10/2020 15:02</td>\n",
              "      <td>newest</td>\n",
              "      <td>com.anydo</td>\n",
              "      <td>positive</td>\n",
              "    </tr>\n",
              "    <tr>\n",
              "      <th>3</th>\n",
              "      <td>gp:AOqpTOFge6fYHLoibIxZYZ3fRS2gRVVEC6mBA9QkmJa...</td>\n",
              "      <td>Steve The Pesilat</td>\n",
              "      <td>https://play-lh.googleusercontent.com/a-/AOh14...</td>\n",
              "      <td>Truly amazing. One of the apps that I kept ins...</td>\n",
              "      <td>5</td>\n",
              "      <td>0</td>\n",
              "      <td>NaN</td>\n",
              "      <td>22/10/2020 5:05</td>\n",
              "      <td>NaN</td>\n",
              "      <td>NaN</td>\n",
              "      <td>newest</td>\n",
              "      <td>com.anydo</td>\n",
              "      <td>positive</td>\n",
              "    </tr>\n",
              "    <tr>\n",
              "      <th>4</th>\n",
              "      <td>gp:AOqpTOGspKknyLniVX8YbL03EOsMIDXxs0mcAY5uswI...</td>\n",
              "      <td>Myriam Le Brock</td>\n",
              "      <td>https://play-lh.googleusercontent.com/-4ENnKxu...</td>\n",
              "      <td>Very useful app. Thanks to the developers!</td>\n",
              "      <td>5</td>\n",
              "      <td>0</td>\n",
              "      <td>5.6.0.6</td>\n",
              "      <td>22/10/2020 4:28</td>\n",
              "      <td>NaN</td>\n",
              "      <td>NaN</td>\n",
              "      <td>newest</td>\n",
              "      <td>com.anydo</td>\n",
              "      <td>positive</td>\n",
              "    </tr>\n",
              "  </tbody>\n",
              "</table>\n",
              "</div>\n",
              "    <div class=\"colab-df-buttons\">\n",
              "\n",
              "  <div class=\"colab-df-container\">\n",
              "    <button class=\"colab-df-convert\" onclick=\"convertToInteractive('df-6f5e84a1-9f53-4b10-9b0d-a236235e81a4')\"\n",
              "            title=\"Convert this dataframe to an interactive table.\"\n",
              "            style=\"display:none;\">\n",
              "\n",
              "  <svg xmlns=\"http://www.w3.org/2000/svg\" height=\"24px\" viewBox=\"0 -960 960 960\">\n",
              "    <path d=\"M120-120v-720h720v720H120Zm60-500h600v-160H180v160Zm220 220h160v-160H400v160Zm0 220h160v-160H400v160ZM180-400h160v-160H180v160Zm440 0h160v-160H620v160ZM180-180h160v-160H180v160Zm440 0h160v-160H620v160Z\"/>\n",
              "  </svg>\n",
              "    </button>\n",
              "\n",
              "  <style>\n",
              "    .colab-df-container {\n",
              "      display:flex;\n",
              "      gap: 12px;\n",
              "    }\n",
              "\n",
              "    .colab-df-convert {\n",
              "      background-color: #E8F0FE;\n",
              "      border: none;\n",
              "      border-radius: 50%;\n",
              "      cursor: pointer;\n",
              "      display: none;\n",
              "      fill: #1967D2;\n",
              "      height: 32px;\n",
              "      padding: 0 0 0 0;\n",
              "      width: 32px;\n",
              "    }\n",
              "\n",
              "    .colab-df-convert:hover {\n",
              "      background-color: #E2EBFA;\n",
              "      box-shadow: 0px 1px 2px rgba(60, 64, 67, 0.3), 0px 1px 3px 1px rgba(60, 64, 67, 0.15);\n",
              "      fill: #174EA6;\n",
              "    }\n",
              "\n",
              "    .colab-df-buttons div {\n",
              "      margin-bottom: 4px;\n",
              "    }\n",
              "\n",
              "    [theme=dark] .colab-df-convert {\n",
              "      background-color: #3B4455;\n",
              "      fill: #D2E3FC;\n",
              "    }\n",
              "\n",
              "    [theme=dark] .colab-df-convert:hover {\n",
              "      background-color: #434B5C;\n",
              "      box-shadow: 0px 1px 3px 1px rgba(0, 0, 0, 0.15);\n",
              "      filter: drop-shadow(0px 1px 2px rgba(0, 0, 0, 0.3));\n",
              "      fill: #FFFFFF;\n",
              "    }\n",
              "  </style>\n",
              "\n",
              "    <script>\n",
              "      const buttonEl =\n",
              "        document.querySelector('#df-6f5e84a1-9f53-4b10-9b0d-a236235e81a4 button.colab-df-convert');\n",
              "      buttonEl.style.display =\n",
              "        google.colab.kernel.accessAllowed ? 'block' : 'none';\n",
              "\n",
              "      async function convertToInteractive(key) {\n",
              "        const element = document.querySelector('#df-6f5e84a1-9f53-4b10-9b0d-a236235e81a4');\n",
              "        const dataTable =\n",
              "          await google.colab.kernel.invokeFunction('convertToInteractive',\n",
              "                                                    [key], {});\n",
              "        if (!dataTable) return;\n",
              "\n",
              "        const docLinkHtml = 'Like what you see? Visit the ' +\n",
              "          '<a target=\"_blank\" href=https://colab.research.google.com/notebooks/data_table.ipynb>data table notebook</a>'\n",
              "          + ' to learn more about interactive tables.';\n",
              "        element.innerHTML = '';\n",
              "        dataTable['output_type'] = 'display_data';\n",
              "        await google.colab.output.renderOutput(dataTable, element);\n",
              "        const docLink = document.createElement('div');\n",
              "        docLink.innerHTML = docLinkHtml;\n",
              "        element.appendChild(docLink);\n",
              "      }\n",
              "    </script>\n",
              "  </div>\n",
              "\n",
              "\n",
              "    <div id=\"df-0abf8208-6c10-418d-a279-d6dfed4cccaf\">\n",
              "      <button class=\"colab-df-quickchart\" onclick=\"quickchart('df-0abf8208-6c10-418d-a279-d6dfed4cccaf')\"\n",
              "                title=\"Suggest charts\"\n",
              "                style=\"display:none;\">\n",
              "\n",
              "<svg xmlns=\"http://www.w3.org/2000/svg\" height=\"24px\"viewBox=\"0 0 24 24\"\n",
              "     width=\"24px\">\n",
              "    <g>\n",
              "        <path d=\"M19 3H5c-1.1 0-2 .9-2 2v14c0 1.1.9 2 2 2h14c1.1 0 2-.9 2-2V5c0-1.1-.9-2-2-2zM9 17H7v-7h2v7zm4 0h-2V7h2v10zm4 0h-2v-4h2v4z\"/>\n",
              "    </g>\n",
              "</svg>\n",
              "      </button>\n",
              "\n",
              "<style>\n",
              "  .colab-df-quickchart {\n",
              "      --bg-color: #E8F0FE;\n",
              "      --fill-color: #1967D2;\n",
              "      --hover-bg-color: #E2EBFA;\n",
              "      --hover-fill-color: #174EA6;\n",
              "      --disabled-fill-color: #AAA;\n",
              "      --disabled-bg-color: #DDD;\n",
              "  }\n",
              "\n",
              "  [theme=dark] .colab-df-quickchart {\n",
              "      --bg-color: #3B4455;\n",
              "      --fill-color: #D2E3FC;\n",
              "      --hover-bg-color: #434B5C;\n",
              "      --hover-fill-color: #FFFFFF;\n",
              "      --disabled-bg-color: #3B4455;\n",
              "      --disabled-fill-color: #666;\n",
              "  }\n",
              "\n",
              "  .colab-df-quickchart {\n",
              "    background-color: var(--bg-color);\n",
              "    border: none;\n",
              "    border-radius: 50%;\n",
              "    cursor: pointer;\n",
              "    display: none;\n",
              "    fill: var(--fill-color);\n",
              "    height: 32px;\n",
              "    padding: 0;\n",
              "    width: 32px;\n",
              "  }\n",
              "\n",
              "  .colab-df-quickchart:hover {\n",
              "    background-color: var(--hover-bg-color);\n",
              "    box-shadow: 0 1px 2px rgba(60, 64, 67, 0.3), 0 1px 3px 1px rgba(60, 64, 67, 0.15);\n",
              "    fill: var(--button-hover-fill-color);\n",
              "  }\n",
              "\n",
              "  .colab-df-quickchart-complete:disabled,\n",
              "  .colab-df-quickchart-complete:disabled:hover {\n",
              "    background-color: var(--disabled-bg-color);\n",
              "    fill: var(--disabled-fill-color);\n",
              "    box-shadow: none;\n",
              "  }\n",
              "\n",
              "  .colab-df-spinner {\n",
              "    border: 2px solid var(--fill-color);\n",
              "    border-color: transparent;\n",
              "    border-bottom-color: var(--fill-color);\n",
              "    animation:\n",
              "      spin 1s steps(1) infinite;\n",
              "  }\n",
              "\n",
              "  @keyframes spin {\n",
              "    0% {\n",
              "      border-color: transparent;\n",
              "      border-bottom-color: var(--fill-color);\n",
              "      border-left-color: var(--fill-color);\n",
              "    }\n",
              "    20% {\n",
              "      border-color: transparent;\n",
              "      border-left-color: var(--fill-color);\n",
              "      border-top-color: var(--fill-color);\n",
              "    }\n",
              "    30% {\n",
              "      border-color: transparent;\n",
              "      border-left-color: var(--fill-color);\n",
              "      border-top-color: var(--fill-color);\n",
              "      border-right-color: var(--fill-color);\n",
              "    }\n",
              "    40% {\n",
              "      border-color: transparent;\n",
              "      border-right-color: var(--fill-color);\n",
              "      border-top-color: var(--fill-color);\n",
              "    }\n",
              "    60% {\n",
              "      border-color: transparent;\n",
              "      border-right-color: var(--fill-color);\n",
              "    }\n",
              "    80% {\n",
              "      border-color: transparent;\n",
              "      border-right-color: var(--fill-color);\n",
              "      border-bottom-color: var(--fill-color);\n",
              "    }\n",
              "    90% {\n",
              "      border-color: transparent;\n",
              "      border-bottom-color: var(--fill-color);\n",
              "    }\n",
              "  }\n",
              "</style>\n",
              "\n",
              "      <script>\n",
              "        async function quickchart(key) {\n",
              "          const quickchartButtonEl =\n",
              "            document.querySelector('#' + key + ' button');\n",
              "          quickchartButtonEl.disabled = true;  // To prevent multiple clicks.\n",
              "          quickchartButtonEl.classList.add('colab-df-spinner');\n",
              "          try {\n",
              "            const charts = await google.colab.kernel.invokeFunction(\n",
              "                'suggestCharts', [key], {});\n",
              "          } catch (error) {\n",
              "            console.error('Error during call to suggestCharts:', error);\n",
              "          }\n",
              "          quickchartButtonEl.classList.remove('colab-df-spinner');\n",
              "          quickchartButtonEl.classList.add('colab-df-quickchart-complete');\n",
              "        }\n",
              "        (() => {\n",
              "          let quickchartButtonEl =\n",
              "            document.querySelector('#df-0abf8208-6c10-418d-a279-d6dfed4cccaf button');\n",
              "          quickchartButtonEl.style.display =\n",
              "            google.colab.kernel.accessAllowed ? 'block' : 'none';\n",
              "        })();\n",
              "      </script>\n",
              "    </div>\n",
              "\n",
              "    </div>\n",
              "  </div>\n"
            ],
            "application/vnd.google.colaboratory.intrinsic+json": {
              "type": "dataframe",
              "variable_name": "df",
              "summary": "{\n  \"name\": \"df\",\n  \"rows\": 19,\n  \"fields\": [\n    {\n      \"column\": \"reviewId\",\n      \"properties\": {\n        \"dtype\": \"string\",\n        \"num_unique_values\": 19,\n        \"samples\": [\n          \"gp:AOqpTOGUTeil4SLYunpirm1v3lIlZzo1S6EhUnrnFyjnCqKyC7zd-4oZ6PaXVFlM6YYoFjxFbPvRTQ-2IpTdIA\",\n          \"gp:AOqpTOEuFXljJX_HpR5TwOG0rZif0at---lYZmKAxdwlEpNxNyzdEf4XxCturNb8UlMkU4LOyCncCG9kS5nbKg\",\n          \"gp:AOqpTOFUeHKYRyVIt3fsobAEN0N8nPXBhAVShMdNrnXeDZ3y6OmQG7NjmLHx2U1K0AG_y7FevIZTw6eRLvbKww\"\n        ],\n        \"semantic_type\": \"\",\n        \"description\": \"\"\n      }\n    },\n    {\n      \"column\": \"userName\",\n      \"properties\": {\n        \"dtype\": \"string\",\n        \"num_unique_values\": 19,\n        \"samples\": [\n          \"Chimmie Eze\",\n          \"coop zoop\",\n          \"Pheobe Askie\"\n        ],\n        \"semantic_type\": \"\",\n        \"description\": \"\"\n      }\n    },\n    {\n      \"column\": \"userImage\",\n      \"properties\": {\n        \"dtype\": \"string\",\n        \"num_unique_values\": 19,\n        \"samples\": [\n          \"https://play-lh.googleusercontent.com/-V5SGPGtytUU/AAAAAAAAAAI/AAAAAAAAAAA/AMZuuckPQKm-HQSVwIRdG0wcPT4aSFxmOw/photo.jpg\",\n          \"https://play-lh.googleusercontent.com/a-/AOh14GisRJ49W8VeJGjt6_XhKdZqoo01Bw3J_fYyu4Gsuw\",\n          \"https://play-lh.googleusercontent.com/a-/AOh14GjzWfzRLsTn3c8nCMMJNZVK-ratWclrQqMk-MmwkQ\"\n        ],\n        \"semantic_type\": \"\",\n        \"description\": \"\"\n      }\n    },\n    {\n      \"column\": \"content\",\n      \"properties\": {\n        \"dtype\": \"string\",\n        \"num_unique_values\": 19,\n        \"samples\": [\n          \"Great app, helps me to plan my day ahead\",\n          \"This still works pretty well, but I'm not a fan of the updated widget not listing tasks chronologically.\",\n          \"Lost all my lists when I was forced to give email address. Was good prior to having to start all over.\"\n        ],\n        \"semantic_type\": \"\",\n        \"description\": \"\"\n      }\n    },\n    {\n      \"column\": \"score\",\n      \"properties\": {\n        \"dtype\": \"number\",\n        \"std\": 1,\n        \"min\": 1,\n        \"max\": 5,\n        \"num_unique_values\": 4,\n        \"samples\": [\n          3,\n          1,\n          5\n        ],\n        \"semantic_type\": \"\",\n        \"description\": \"\"\n      }\n    },\n    {\n      \"column\": \"thumbsUpCount\",\n      \"properties\": {\n        \"dtype\": \"number\",\n        \"std\": 7,\n        \"min\": 0,\n        \"max\": 33,\n        \"num_unique_values\": 5,\n        \"samples\": [\n          1,\n          7,\n          33\n        ],\n        \"semantic_type\": \"\",\n        \"description\": \"\"\n      }\n    },\n    {\n      \"column\": \"reviewCreatedVersion\",\n      \"properties\": {\n        \"dtype\": \"category\",\n        \"num_unique_values\": 2,\n        \"samples\": [\n          \"5.6.0.6\",\n          \"5.6.0.7\"\n        ],\n        \"semantic_type\": \"\",\n        \"description\": \"\"\n      }\n    },\n    {\n      \"column\": \"at\",\n      \"properties\": {\n        \"dtype\": \"object\",\n        \"num_unique_values\": 19,\n        \"samples\": [\n          \"27/10/2020 16:47\",\n          \"27/10/2020 9:13\"\n        ],\n        \"semantic_type\": \"\",\n        \"description\": \"\"\n      }\n    },\n    {\n      \"column\": \"replyContent\",\n      \"properties\": {\n        \"dtype\": \"string\",\n        \"num_unique_values\": 11,\n        \"samples\": [\n          \"Please note that you can set as many recurring notifications and repetitions for your events, for Free, directly from the Event Menu https://support.any.do/the-event-menu/. For any questions or assistance, please contact us at https://www.any.do/contact_form, and our team will be happy to assist.\",\n          \"Glad to hear that you're enjoying the features and that Any.do is helping you stay organized! We hope you will share the app with your friends and family so they can try it out too ;)\"\n        ],\n        \"semantic_type\": \"\",\n        \"description\": \"\"\n      }\n    },\n    {\n      \"column\": \"repliedAt\",\n      \"properties\": {\n        \"dtype\": \"date\",\n        \"min\": \"2020-07-19 13:29:00\",\n        \"max\": \"2020-10-27 15:02:00\",\n        \"num_unique_values\": 10,\n        \"samples\": [\n          \"19/10/2020 13:56\",\n          \"27/10/2020 14:49\"\n        ],\n        \"semantic_type\": \"\",\n        \"description\": \"\"\n      }\n    },\n    {\n      \"column\": \"sortOrder\",\n      \"properties\": {\n        \"dtype\": \"category\",\n        \"num_unique_values\": 1,\n        \"samples\": [\n          \"newest\"\n        ],\n        \"semantic_type\": \"\",\n        \"description\": \"\"\n      }\n    },\n    {\n      \"column\": \"appId\",\n      \"properties\": {\n        \"dtype\": \"category\",\n        \"num_unique_values\": 1,\n        \"samples\": [\n          \"com.anydo\"\n        ],\n        \"semantic_type\": \"\",\n        \"description\": \"\"\n      }\n    },\n    {\n      \"column\": \"llm_classification\",\n      \"properties\": {\n        \"dtype\": \"category\",\n        \"num_unique_values\": 3,\n        \"samples\": [\n          \"positive\"\n        ],\n        \"semantic_type\": \"\",\n        \"description\": \"\"\n      }\n    }\n  ]\n}"
            }
          },
          "metadata": {},
          "execution_count": 22
        }
      ]
    }
  ],
  "metadata": {
    "kernelspec": {
      "display_name": "Python 3",
      "language": "python",
      "name": "python3"
    },
    "language_info": {
      "codemirror_mode": {
        "name": "ipython",
        "version": 3
      },
      "file_extension": ".py",
      "mimetype": "text/x-python",
      "name": "python",
      "nbconvert_exporter": "python",
      "pygments_lexer": "ipython3",
      "version": "3.13.5"
    },
    "colab": {
      "provenance": [],
      "include_colab_link": true
    }
  },
  "nbformat": 4,
  "nbformat_minor": 5
}